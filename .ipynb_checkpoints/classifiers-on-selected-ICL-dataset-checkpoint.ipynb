{
 "cells": [
  {
   "cell_type": "code",
   "execution_count": 74,
   "id": "548c5a8d",
   "metadata": {},
   "outputs": [],
   "source": [
    "import useful_functions\n",
    "import numpy as np\n",
    "import pandas as pd\n",
    "import seaborn as sns\n",
    "import matplotlib.pyplot as plt\n",
    "from sklearn.ensemble import RandomForestClassifier\n",
    "from sklearn.svm import SVC\n",
    "from sklearn import svm\n",
    "from sklearn.neural_network import MLPClassifier\n",
    "from sklearn.metrics import confusion_matrix, classification_report\n",
    "from sklearn.preprocessing import StandardScaler, LabelEncoder\n",
    "from sklearn.model_selection import train_test_split\n",
    "from sklearn.ensemble import AdaBoostClassifier\n",
    "from sklearn.ensemble import GradientBoostingClassifier\n",
    "from sklearn.utils import resample\n",
    "import PandasSimpleImputer\n",
    "from xgboost import XGBClassifier"
   ]
  },
  {
   "cell_type": "code",
   "execution_count": 50,
   "id": "ea4040ef",
   "metadata": {},
   "outputs": [],
   "source": [
    "X_train = pd.read_csv('generated-data/X-train-new2.csv')\n",
    "X_test = pd.read_csv('generated-data/X-test-new2.csv')\n",
    "y_train = pd.read_csv('generated-data/y-train.csv').drop(['Unnamed: 0'], axis=1)\n",
    "y_test = pd.read_csv('generated-data/y-test.csv').drop(['Unnamed: 0'], axis=1)"
   ]
  },
  {
   "cell_type": "code",
   "execution_count": 51,
   "id": "e768c708",
   "metadata": {},
   "outputs": [],
   "source": [
    "X_train = useful_functions.clean_dataset(X_train, delete_missing_data=False).drop(['index', 'Unnamed: 0'], axis=1)\n",
    "X_test = useful_functions.clean_dataset(X_test, delete_missing_data=False).drop(['index', 'Unnamed: 0'], axis=1)"
   ]
  },
  {
   "cell_type": "code",
   "execution_count": 52,
   "id": "f1f88a33",
   "metadata": {},
   "outputs": [],
   "source": [
    "def convert_y_to_class(y):\n",
    "    class_case = [0 if i < 2.0 else 1 for i in y]\n",
    "    return class_case"
   ]
  },
  {
   "cell_type": "code",
   "execution_count": 53,
   "id": "bfa34cdb",
   "metadata": {},
   "outputs": [],
   "source": [
    "y_train_class = convert_y_to_class(y_train.to_numpy())\n",
    "y_test_class = convert_y_to_class(y_test.to_numpy())"
   ]
  },
  {
   "cell_type": "code",
   "execution_count": 54,
   "id": "4dc6c5d0",
   "metadata": {},
   "outputs": [],
   "source": [
    "imp = PandasSimpleImputer.PandasSimpleImputer(strategy='median', missing_values=np.nan)\n",
    "X_train = imp.fit_transform(X_train)\n",
    "X_test = imp.transform(X_test)\n",
    "\n",
    "sc = StandardScaler()\n",
    "X_train = sc.fit_transform(X_train)\n",
    "X_test = sc.transform(X_test)"
   ]
  },
  {
   "cell_type": "code",
   "execution_count": 81,
   "id": "fffff941",
   "metadata": {},
   "outputs": [],
   "source": [
    "def train_and_run(clf):\n",
    "    clf.fit(X_train, y_train_class)\n",
    "    pred_clf = clf.predict(X_test)\n",
    "    print(confusion_matrix(y_test_class, pred_clf))\n",
    "    print(classification_report(y_test_class, pred_clf))"
   ]
  },
  {
   "cell_type": "code",
   "execution_count": 82,
   "id": "7a3f7141",
   "metadata": {},
   "outputs": [],
   "source": [
    "RF = RandomForestClassifier(n_estimators=100)\n",
    "GBC = GradientBoostingClassifier(max_depth=4, min_samples_split=2, min_samples_leaf=1, \n",
    "                                 subsample=1, max_features='sqrt', random_state=10, learning_rate=0.15,\n",
    "                                 n_estimators=500)\n",
    "Ada = AdaBoostClassifier(learning_rate=0.5, n_estimators=500)\n",
    "XGBC = XGBClassifier(max_depth=7, min_child_weight=1, gamma=0.1, colsample_bytree=0.8, \n",
    "                                 subsample=0.6, reg_alpha=0, n_estimators=5000, learning_rate=0.01)"
   ]
  },
  {
   "cell_type": "code",
   "execution_count": 83,
   "id": "148870a3",
   "metadata": {},
   "outputs": [
    {
     "name": "stdout",
     "output_type": "stream",
     "text": [
      "[[19094   260]\n",
      " [  321  1420]]\n",
      "              precision    recall  f1-score   support\n",
      "\n",
      "           0       0.98      0.99      0.99     19354\n",
      "           1       0.85      0.82      0.83      1741\n",
      "\n",
      "    accuracy                           0.97     21095\n",
      "   macro avg       0.91      0.90      0.91     21095\n",
      "weighted avg       0.97      0.97      0.97     21095\n",
      "\n"
     ]
    }
   ],
   "source": [
    "train_and_run(RF)"
   ]
  },
  {
   "cell_type": "code",
   "execution_count": null,
   "id": "c72819f8",
   "metadata": {},
   "outputs": [],
   "source": [
    "train_and_run(GBC)"
   ]
  },
  {
   "cell_type": "code",
   "execution_count": null,
   "id": "c592f7b1",
   "metadata": {},
   "outputs": [],
   "source": [
    "train_and_run(Ada)"
   ]
  },
  {
   "cell_type": "code",
   "execution_count": null,
   "id": "eb98ffed",
   "metadata": {},
   "outputs": [],
   "source": [
    "train_and_run(XGBC)"
   ]
  },
  {
   "cell_type": "code",
   "execution_count": null,
   "id": "1cb813c4",
   "metadata": {},
   "outputs": [],
   "source": []
  }
 ],
 "metadata": {
  "kernelspec": {
   "display_name": "Python 3",
   "language": "python",
   "name": "python3"
  },
  "language_info": {
   "codemirror_mode": {
    "name": "ipython",
    "version": 3
   },
   "file_extension": ".py",
   "mimetype": "text/x-python",
   "name": "python",
   "nbconvert_exporter": "python",
   "pygments_lexer": "ipython3",
   "version": "3.8.8"
  }
 },
 "nbformat": 4,
 "nbformat_minor": 5
}
