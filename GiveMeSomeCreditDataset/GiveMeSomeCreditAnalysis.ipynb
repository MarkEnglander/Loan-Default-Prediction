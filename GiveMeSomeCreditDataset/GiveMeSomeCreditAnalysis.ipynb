{
 "cells": [
  {
   "cell_type": "code",
   "execution_count": 98,
   "id": "a25e9efb",
   "metadata": {},
   "outputs": [],
   "source": [
    "# !pip install xgboost\n",
    "# !pip install klib"
   ]
  },
  {
   "cell_type": "code",
   "execution_count": 99,
   "id": "1647dcaf",
   "metadata": {},
   "outputs": [],
   "source": [
    "import pandas as pd \n",
    "import numpy as np \n",
    "import seaborn as sns \n",
    "import matplotlib.pyplot as plt\n",
    "from scipy import stats\n",
    "import klib\n",
    "\n",
    "from sklearn.ensemble import RandomForestClassifier\n",
    "from sklearn.svm import SVC\n",
    "from sklearn import svm\n",
    "from sklearn.neural_network import MLPClassifier\n",
    "from sklearn.metrics import confusion_matrix, classification_report\n",
    "from sklearn.preprocessing import StandardScaler, LabelEncoder\n",
    "from sklearn.model_selection import train_test_split\n",
    "from sklearn.ensemble import AdaBoostClassifier\n",
    "from sklearn.ensemble import GradientBoostingClassifier\n",
    "from sklearn.utils import resample\n",
    "from xgboost import XGBClassifier"
   ]
  },
  {
   "cell_type": "code",
   "execution_count": 100,
   "id": "d8eb328f",
   "metadata": {},
   "outputs": [],
   "source": [
    "import PandasSimpleImputer"
   ]
  },
  {
   "cell_type": "code",
   "execution_count": 101,
   "id": "47eaed56",
   "metadata": {},
   "outputs": [
    {
     "data": {
      "text/html": [
       "<div>\n",
       "<style scoped>\n",
       "    .dataframe tbody tr th:only-of-type {\n",
       "        vertical-align: middle;\n",
       "    }\n",
       "\n",
       "    .dataframe tbody tr th {\n",
       "        vertical-align: top;\n",
       "    }\n",
       "\n",
       "    .dataframe thead th {\n",
       "        text-align: right;\n",
       "    }\n",
       "</style>\n",
       "<table border=\"1\" class=\"dataframe\">\n",
       "  <thead>\n",
       "    <tr style=\"text-align: right;\">\n",
       "      <th></th>\n",
       "      <th>Unnamed: 0</th>\n",
       "      <th>SeriousDlqin2yrs</th>\n",
       "      <th>RevolvingUtilizationOfUnsecuredLines</th>\n",
       "      <th>age</th>\n",
       "      <th>NumberOfTime30-59DaysPastDueNotWorse</th>\n",
       "      <th>DebtRatio</th>\n",
       "      <th>MonthlyIncome</th>\n",
       "      <th>NumberOfOpenCreditLinesAndLoans</th>\n",
       "      <th>NumberOfTimes90DaysLate</th>\n",
       "      <th>NumberRealEstateLoansOrLines</th>\n",
       "      <th>NumberOfTime60-89DaysPastDueNotWorse</th>\n",
       "      <th>NumberOfDependents</th>\n",
       "    </tr>\n",
       "  </thead>\n",
       "  <tbody>\n",
       "    <tr>\n",
       "      <th>count</th>\n",
       "      <td>112500.000000</td>\n",
       "      <td>112500.00000</td>\n",
       "      <td>112500.000000</td>\n",
       "      <td>112500.000000</td>\n",
       "      <td>112500.000000</td>\n",
       "      <td>112500.000000</td>\n",
       "      <td>9.020700e+04</td>\n",
       "      <td>112500.000000</td>\n",
       "      <td>112500.000000</td>\n",
       "      <td>112500.000000</td>\n",
       "      <td>112500.000000</td>\n",
       "      <td>109561.000000</td>\n",
       "    </tr>\n",
       "    <tr>\n",
       "      <th>mean</th>\n",
       "      <td>56250.500000</td>\n",
       "      <td>0.06656</td>\n",
       "      <td>5.845788</td>\n",
       "      <td>52.257360</td>\n",
       "      <td>0.421636</td>\n",
       "      <td>354.955053</td>\n",
       "      <td>6.649567e+03</td>\n",
       "      <td>8.450747</td>\n",
       "      <td>0.267538</td>\n",
       "      <td>1.020222</td>\n",
       "      <td>0.241573</td>\n",
       "      <td>0.756245</td>\n",
       "    </tr>\n",
       "    <tr>\n",
       "      <th>std</th>\n",
       "      <td>32476.096979</td>\n",
       "      <td>0.24926</td>\n",
       "      <td>249.858470</td>\n",
       "      <td>14.770455</td>\n",
       "      <td>4.214763</td>\n",
       "      <td>2057.143469</td>\n",
       "      <td>1.423314e+04</td>\n",
       "      <td>5.136673</td>\n",
       "      <td>4.191150</td>\n",
       "      <td>1.134902</td>\n",
       "      <td>4.177922</td>\n",
       "      <td>1.113643</td>\n",
       "    </tr>\n",
       "    <tr>\n",
       "      <th>min</th>\n",
       "      <td>1.000000</td>\n",
       "      <td>0.00000</td>\n",
       "      <td>0.000000</td>\n",
       "      <td>0.000000</td>\n",
       "      <td>0.000000</td>\n",
       "      <td>0.000000</td>\n",
       "      <td>0.000000e+00</td>\n",
       "      <td>0.000000</td>\n",
       "      <td>0.000000</td>\n",
       "      <td>0.000000</td>\n",
       "      <td>0.000000</td>\n",
       "      <td>0.000000</td>\n",
       "    </tr>\n",
       "    <tr>\n",
       "      <th>25%</th>\n",
       "      <td>28125.750000</td>\n",
       "      <td>0.00000</td>\n",
       "      <td>0.030049</td>\n",
       "      <td>41.000000</td>\n",
       "      <td>0.000000</td>\n",
       "      <td>0.175375</td>\n",
       "      <td>3.400000e+03</td>\n",
       "      <td>5.000000</td>\n",
       "      <td>0.000000</td>\n",
       "      <td>0.000000</td>\n",
       "      <td>0.000000</td>\n",
       "      <td>0.000000</td>\n",
       "    </tr>\n",
       "    <tr>\n",
       "      <th>50%</th>\n",
       "      <td>56250.500000</td>\n",
       "      <td>0.00000</td>\n",
       "      <td>0.155548</td>\n",
       "      <td>52.000000</td>\n",
       "      <td>0.000000</td>\n",
       "      <td>0.367103</td>\n",
       "      <td>5.400000e+03</td>\n",
       "      <td>8.000000</td>\n",
       "      <td>0.000000</td>\n",
       "      <td>1.000000</td>\n",
       "      <td>0.000000</td>\n",
       "      <td>0.000000</td>\n",
       "    </tr>\n",
       "    <tr>\n",
       "      <th>75%</th>\n",
       "      <td>84375.250000</td>\n",
       "      <td>0.00000</td>\n",
       "      <td>0.561336</td>\n",
       "      <td>63.000000</td>\n",
       "      <td>0.000000</td>\n",
       "      <td>0.869897</td>\n",
       "      <td>8.227000e+03</td>\n",
       "      <td>11.000000</td>\n",
       "      <td>0.000000</td>\n",
       "      <td>2.000000</td>\n",
       "      <td>0.000000</td>\n",
       "      <td>1.000000</td>\n",
       "    </tr>\n",
       "    <tr>\n",
       "      <th>max</th>\n",
       "      <td>112500.000000</td>\n",
       "      <td>1.00000</td>\n",
       "      <td>50708.000000</td>\n",
       "      <td>109.000000</td>\n",
       "      <td>98.000000</td>\n",
       "      <td>329664.000000</td>\n",
       "      <td>3.008750e+06</td>\n",
       "      <td>58.000000</td>\n",
       "      <td>98.000000</td>\n",
       "      <td>54.000000</td>\n",
       "      <td>98.000000</td>\n",
       "      <td>20.000000</td>\n",
       "    </tr>\n",
       "  </tbody>\n",
       "</table>\n",
       "</div>"
      ],
      "text/plain": [
       "          Unnamed: 0  SeriousDlqin2yrs  RevolvingUtilizationOfUnsecuredLines  \\\n",
       "count  112500.000000      112500.00000                         112500.000000   \n",
       "mean    56250.500000           0.06656                              5.845788   \n",
       "std     32476.096979           0.24926                            249.858470   \n",
       "min         1.000000           0.00000                              0.000000   \n",
       "25%     28125.750000           0.00000                              0.030049   \n",
       "50%     56250.500000           0.00000                              0.155548   \n",
       "75%     84375.250000           0.00000                              0.561336   \n",
       "max    112500.000000           1.00000                          50708.000000   \n",
       "\n",
       "                 age  NumberOfTime30-59DaysPastDueNotWorse      DebtRatio  \\\n",
       "count  112500.000000                         112500.000000  112500.000000   \n",
       "mean       52.257360                              0.421636     354.955053   \n",
       "std        14.770455                              4.214763    2057.143469   \n",
       "min         0.000000                              0.000000       0.000000   \n",
       "25%        41.000000                              0.000000       0.175375   \n",
       "50%        52.000000                              0.000000       0.367103   \n",
       "75%        63.000000                              0.000000       0.869897   \n",
       "max       109.000000                             98.000000  329664.000000   \n",
       "\n",
       "       MonthlyIncome  NumberOfOpenCreditLinesAndLoans  \\\n",
       "count   9.020700e+04                    112500.000000   \n",
       "mean    6.649567e+03                         8.450747   \n",
       "std     1.423314e+04                         5.136673   \n",
       "min     0.000000e+00                         0.000000   \n",
       "25%     3.400000e+03                         5.000000   \n",
       "50%     5.400000e+03                         8.000000   \n",
       "75%     8.227000e+03                        11.000000   \n",
       "max     3.008750e+06                        58.000000   \n",
       "\n",
       "       NumberOfTimes90DaysLate  NumberRealEstateLoansOrLines  \\\n",
       "count            112500.000000                 112500.000000   \n",
       "mean                  0.267538                      1.020222   \n",
       "std                   4.191150                      1.134902   \n",
       "min                   0.000000                      0.000000   \n",
       "25%                   0.000000                      0.000000   \n",
       "50%                   0.000000                      1.000000   \n",
       "75%                   0.000000                      2.000000   \n",
       "max                  98.000000                     54.000000   \n",
       "\n",
       "       NumberOfTime60-89DaysPastDueNotWorse  NumberOfDependents  \n",
       "count                         112500.000000       109561.000000  \n",
       "mean                               0.241573            0.756245  \n",
       "std                                4.177922            1.113643  \n",
       "min                                0.000000            0.000000  \n",
       "25%                                0.000000            0.000000  \n",
       "50%                                0.000000            0.000000  \n",
       "75%                                0.000000            1.000000  \n",
       "max                               98.000000           20.000000  "
      ]
     },
     "execution_count": 101,
     "metadata": {},
     "output_type": "execute_result"
    }
   ],
   "source": [
    "# Import the data\n",
    "dataset = pd.read_csv('GiveMeSomeCredit/cs-training.csv')\n",
    "\n",
    "# Probably best to split into train and test before doing ANYTHING\n",
    "test_dataset = dataset.iloc[int(len(dataset) * 3 / 4):, :].copy()\n",
    "dataset = dataset.iloc[:int(len(dataset) * 3 / 4), :]\n",
    "\n",
    "dataset.describe()"
   ]
  },
  {
   "cell_type": "code",
   "execution_count": 35,
   "id": "94fc95d5",
   "metadata": {},
   "outputs": [
    {
     "data": {
      "text/plain": [
       "Unnamed: 0                                  0\n",
       "SeriousDlqin2yrs                            0\n",
       "RevolvingUtilizationOfUnsecuredLines        0\n",
       "age                                         0\n",
       "NumberOfTime30-59DaysPastDueNotWorse        0\n",
       "DebtRatio                                   0\n",
       "MonthlyIncome                           22293\n",
       "NumberOfOpenCreditLinesAndLoans             0\n",
       "NumberOfTimes90DaysLate                     0\n",
       "NumberRealEstateLoansOrLines                0\n",
       "NumberOfTime60-89DaysPastDueNotWorse        0\n",
       "NumberOfDependents                       2939\n",
       "dtype: int64"
      ]
     },
     "execution_count": 35,
     "metadata": {},
     "output_type": "execute_result"
    }
   ],
   "source": [
    "dataset.isnull().sum()"
   ]
  },
  {
   "cell_type": "code",
   "execution_count": 36,
   "id": "ff9d86c7",
   "metadata": {},
   "outputs": [
    {
     "name": "stdout",
     "output_type": "stream",
     "text": [
      "<class 'pandas.core.frame.DataFrame'>\n",
      "RangeIndex: 112500 entries, 0 to 112499\n",
      "Data columns (total 12 columns):\n",
      " #   Column                                Non-Null Count   Dtype  \n",
      "---  ------                                --------------   -----  \n",
      " 0   Unnamed: 0                            112500 non-null  int64  \n",
      " 1   SeriousDlqin2yrs                      112500 non-null  int64  \n",
      " 2   RevolvingUtilizationOfUnsecuredLines  112500 non-null  float64\n",
      " 3   age                                   112500 non-null  int64  \n",
      " 4   NumberOfTime30-59DaysPastDueNotWorse  112500 non-null  int64  \n",
      " 5   DebtRatio                             112500 non-null  float64\n",
      " 6   MonthlyIncome                         90207 non-null   float64\n",
      " 7   NumberOfOpenCreditLinesAndLoans       112500 non-null  int64  \n",
      " 8   NumberOfTimes90DaysLate               112500 non-null  int64  \n",
      " 9   NumberRealEstateLoansOrLines          112500 non-null  int64  \n",
      " 10  NumberOfTime60-89DaysPastDueNotWorse  112500 non-null  int64  \n",
      " 11  NumberOfDependents                    109561 non-null  float64\n",
      "dtypes: float64(4), int64(8)\n",
      "memory usage: 10.3 MB\n"
     ]
    }
   ],
   "source": [
    "dataset.info()"
   ]
  },
  {
   "cell_type": "code",
   "execution_count": 37,
   "id": "44dbdc8e",
   "metadata": {},
   "outputs": [
    {
     "data": {
      "text/plain": [
       "0"
      ]
     },
     "execution_count": 37,
     "metadata": {},
     "output_type": "execute_result"
    }
   ],
   "source": [
    "dataset.duplicated().sum()"
   ]
  },
  {
   "cell_type": "code",
   "execution_count": 38,
   "id": "b59d7476",
   "metadata": {},
   "outputs": [
    {
     "data": {
      "text/html": [
       "<div>\n",
       "<style scoped>\n",
       "    .dataframe tbody tr th:only-of-type {\n",
       "        vertical-align: middle;\n",
       "    }\n",
       "\n",
       "    .dataframe tbody tr th {\n",
       "        vertical-align: top;\n",
       "    }\n",
       "\n",
       "    .dataframe thead th {\n",
       "        text-align: right;\n",
       "    }\n",
       "</style>\n",
       "<table border=\"1\" class=\"dataframe\">\n",
       "  <thead>\n",
       "    <tr style=\"text-align: right;\">\n",
       "      <th></th>\n",
       "      <th>Unnamed: 0</th>\n",
       "      <th>SeriousDlqin2yrs</th>\n",
       "      <th>RevolvingUtilizationOfUnsecuredLines</th>\n",
       "      <th>age</th>\n",
       "      <th>NumberOfTime30-59DaysPastDueNotWorse</th>\n",
       "      <th>DebtRatio</th>\n",
       "      <th>MonthlyIncome</th>\n",
       "      <th>NumberOfOpenCreditLinesAndLoans</th>\n",
       "      <th>NumberOfTimes90DaysLate</th>\n",
       "      <th>NumberRealEstateLoansOrLines</th>\n",
       "      <th>NumberOfTime60-89DaysPastDueNotWorse</th>\n",
       "      <th>NumberOfDependents</th>\n",
       "    </tr>\n",
       "  </thead>\n",
       "  <tbody>\n",
       "    <tr>\n",
       "      <th>min</th>\n",
       "      <td>1</td>\n",
       "      <td>0</td>\n",
       "      <td>0.0</td>\n",
       "      <td>0</td>\n",
       "      <td>0</td>\n",
       "      <td>0.0</td>\n",
       "      <td>0.0</td>\n",
       "      <td>0</td>\n",
       "      <td>0</td>\n",
       "      <td>0</td>\n",
       "      <td>0</td>\n",
       "      <td>0.0</td>\n",
       "    </tr>\n",
       "    <tr>\n",
       "      <th>max</th>\n",
       "      <td>112500</td>\n",
       "      <td>1</td>\n",
       "      <td>50708.0</td>\n",
       "      <td>109</td>\n",
       "      <td>98</td>\n",
       "      <td>329664.0</td>\n",
       "      <td>3008750.0</td>\n",
       "      <td>58</td>\n",
       "      <td>98</td>\n",
       "      <td>54</td>\n",
       "      <td>98</td>\n",
       "      <td>20.0</td>\n",
       "    </tr>\n",
       "  </tbody>\n",
       "</table>\n",
       "</div>"
      ],
      "text/plain": [
       "     Unnamed: 0  SeriousDlqin2yrs  RevolvingUtilizationOfUnsecuredLines  age  \\\n",
       "min           1                 0                                   0.0    0   \n",
       "max      112500                 1                               50708.0  109   \n",
       "\n",
       "     NumberOfTime30-59DaysPastDueNotWorse  DebtRatio  MonthlyIncome  \\\n",
       "min                                     0        0.0            0.0   \n",
       "max                                    98   329664.0      3008750.0   \n",
       "\n",
       "     NumberOfOpenCreditLinesAndLoans  NumberOfTimes90DaysLate  \\\n",
       "min                                0                        0   \n",
       "max                               58                       98   \n",
       "\n",
       "     NumberRealEstateLoansOrLines  NumberOfTime60-89DaysPastDueNotWorse  \\\n",
       "min                             0                                     0   \n",
       "max                            54                                    98   \n",
       "\n",
       "     NumberOfDependents  \n",
       "min                 0.0  \n",
       "max                20.0  "
      ]
     },
     "execution_count": 38,
     "metadata": {},
     "output_type": "execute_result"
    }
   ],
   "source": [
    "# Check for outliers\n",
    "dataset.agg(['min','max']).round(2)"
   ]
  },
  {
   "cell_type": "code",
   "execution_count": 39,
   "id": "963b71b1",
   "metadata": {},
   "outputs": [
    {
     "data": {
      "image/png": "[encoded data removed]",
      "text/plain": [
       "<Figure size 720x720 with 3 Axes>"
      ]
     },
     "metadata": {
      "needs_background": "light"
     },
     "output_type": "display_data"
    }
   ],
   "source": [
    "# Since I know roughly what each column should look like, \n",
    "# looking at these min and max is enough to think about which have outliers\n",
    "# For example, you'd expect there to be a massive variance/skew in the monthly income\n",
    "# Here I look in more depth\n",
    "\n",
    "lookat = ['RevolvingUtilizationOfUnsecuredLines', 'DebtRatio', 'NumberOfDependents']\n",
    "\n",
    "plt.rcParams['figure.figsize'] = [10, 10]\n",
    "\n",
    "fig, (ax_1, ax_2 ,ax_3) = plt.subplots(3)\n",
    "fig.subplots_adjust(hspace = 0.25) \n",
    "ax = [ax_1, ax_2, ax_3] # I know this is weird code but can't be bothered finding what the proper fix is\n",
    "for i in range(3):\n",
    "    sns.boxplot(ax=ax[i], data=dataset, x=lookat[i])"
   ]
  },
  {
   "cell_type": "code",
   "execution_count": 40,
   "id": "1e94bce5",
   "metadata": {},
   "outputs": [
    {
     "data": {
      "text/plain": [
       "MonthlyIncome                           128.852253\n",
       "RevolvingUtilizationOfUnsecuredLines    110.156858\n",
       "DebtRatio                                93.136502\n",
       "NumberOfTime60-89DaysPastDueNotWorse     23.206666\n",
       "NumberOfTimes90DaysLate                  22.978025\n",
       "NumberOfTime30-59DaysPastDueNotWorse     22.491301\n",
       "NumberRealEstateLoansOrLines              3.750909\n",
       "SeriousDlqin2yrs                          3.477883\n",
       "NumberOfDependents                        1.591755\n",
       "NumberOfOpenCreditLinesAndLoans           1.192836\n",
       "age                                       0.187469\n",
       "Unnamed: 0                                0.000000\n",
       "dtype: float64"
      ]
     },
     "execution_count": 40,
     "metadata": {},
     "output_type": "execute_result"
    }
   ],
   "source": [
    "dataset.skew().sort_values(ascending=False)"
   ]
  },
  {
   "cell_type": "code",
   "execution_count": 41,
   "id": "446e5b80",
   "metadata": {},
   "outputs": [],
   "source": [
    "# Remove outliers\n",
    "dataset = dataset.loc[dataset['RevolvingUtilizationOfUnsecuredLines'] < 15000]\n",
    "dataset = dataset.loc[dataset['DebtRatio'] < 100000]\n",
    "dataset = dataset.loc[dataset['NumberOfDependents'] < 10]\n",
    "\n",
    "# Data is highly skewed, not good not good\n",
    "def log_transform(datasett):\n",
    "    dataset_transformed = datasett.copy()\n",
    "\n",
    "    # Try the log of some of this data to reduce skew\n",
    "    dataset_transformed['logMonthlyIncome'] = np.log(datasett['MonthlyIncome'] + 1)\n",
    "    dataset_transformed['logRevolvingUtilizationOfUnsecuredLines'] = np.log(datasett['RevolvingUtilizationOfUnsecuredLines'] + 1)\n",
    "    dataset_transformed['logDebtRatio'] = np.log(datasett['DebtRatio'] + 1)\n",
    "    dataset_transformed['logMonthlyIncome'] = np.log(datasett['MonthlyIncome'] + 1)\n",
    "    dataset_transformed['logNumberOfTime60-89DaysPastDueNotWorse'] = np.log(datasett['NumberOfTime60-89DaysPastDueNotWorse'] + 1)\n",
    "    dataset_transformed['logNumberOfTime30-59DaysPastDueNotWorse'] = np.log(datasett['NumberOfTime30-59DaysPastDueNotWorse'] + 1)\n",
    "    dataset_transformed['logNumberOfTimes90DaysLate'] = np.log(datasett['NumberOfTimes90DaysLate'] + 1)\n",
    "\n",
    "    dataset_transformed.drop(['RevolvingUtilizationOfUnsecuredLines', 'DebtRatio', 'MonthlyIncome', \n",
    "                              'NumberOfTime60-89DaysPastDueNotWorse', 'NumberOfTime30-59DaysPastDueNotWorse',\n",
    "                              'NumberOfTimes90DaysLate'], inplace=True, axis=1)\n",
    "    return dataset_transformed\n",
    "\n",
    "dataset_transformed = log_transform(dataset)\n",
    "test_dataset_transformed = log_transform(test_dataset)"
   ]
  },
  {
   "cell_type": "code",
   "execution_count": 42,
   "id": "ae93af62",
   "metadata": {},
   "outputs": [
    {
     "data": {
      "text/plain": [
       "logRevolvingUtilizationOfUnsecuredLines    11.329325\n",
       "logNumberOfTime60-89DaysPastDueNotWorse    10.560204\n",
       "logNumberOfTimes90DaysLate                  8.683401\n",
       "logNumberOfTime30-59DaysPastDueNotWorse     4.155167\n",
       "NumberRealEstateLoansOrLines                3.755882\n",
       "SeriousDlqin2yrs                            3.459557\n",
       "logDebtRatio                                1.874417\n",
       "NumberOfDependents                          1.537121\n",
       "NumberOfOpenCreditLinesAndLoans             1.192880\n",
       "age                                         0.187704\n",
       "Unnamed: 0                                 -0.000695\n",
       "logMonthlyIncome                           -4.370081\n",
       "dtype: float64"
      ]
     },
     "execution_count": 42,
     "metadata": {},
     "output_type": "execute_result"
    }
   ],
   "source": [
    "dataset_transformed.skew().sort_values(ascending=False)"
   ]
  },
  {
   "cell_type": "code",
   "execution_count": 43,
   "id": "2445073d",
   "metadata": {},
   "outputs": [
    {
     "name": "stdout",
     "output_type": "stream",
     "text": [
      "Displaying absolute correlations above the threshold (0.02). Specify a positive \"threshold\" to limit the results further.\n"
     ]
    },
    {
     "data": {
      "image/png": "[encoded data removed]",
      "text/plain": [
       "<Figure size 792x648 with 2 Axes>"
      ]
     },
     "metadata": {
      "needs_background": "light"
     },
     "output_type": "display_data"
    }
   ],
   "source": [
    "plot = klib.corr_plot(dataset,  figsize=(11,9), split='high', threshold=0.02)"
   ]
  },
  {
   "cell_type": "code",
   "execution_count": 44,
   "id": "b14b294c",
   "metadata": {},
   "outputs": [
    {
     "data": {
      "image/png": "[encoded data removed]",
      "text/plain": [
       "<Figure size 1080x720 with 1 Axes>"
      ]
     },
     "metadata": {
      "needs_background": "light"
     },
     "output_type": "display_data"
    }
   ],
   "source": [
    "# The feature we wish to predict is 'SeriousDlqin2yrs'. \n",
    "# So, let's explore which features have the most correlation with it.\n",
    "\n",
    "corrmat = dataset.corr()\n",
    "corr = corrmat['SeriousDlqin2yrs'].sort_values(key=abs, ascending=False)\n",
    "corr.drop(['SeriousDlqin2yrs', 'Unnamed: 0'], inplace=True)\n",
    "df = pd.DataFrame(data={'features': corr.index, 'Correlation with SeriousDlqin2yrs': corr.values})\n",
    "plt.figure(figsize=(15, 10))\n",
    "sns.barplot(x=\"Correlation with SeriousDlqin2yrs\", y=\"features\", data=df)\n",
    "plt.title('Correlation with SeriousDlqin2yrs')\n",
    "plt.grid()\n",
    "plt.show()"
   ]
  },
  {
   "cell_type": "code",
   "execution_count": 82,
   "id": "5a1459bb",
   "metadata": {},
   "outputs": [
    {
     "name": "stdout",
     "output_type": "stream",
     "text": [
      "0    102193\n",
      "1      7354\n",
      "Name: SeriousDlqin2yrs, dtype: int64\n",
      "\n",
      "Percentage of data that has been defaulted on after 2 years:\n",
      "6.7%\n"
     ]
    }
   ],
   "source": [
    "y = dataset_transformed['SeriousDlqin2yrs']\n",
    "print(y.value_counts())\n",
    "print('\\nPercentage of data that has been defaulted on after 2 years:')\n",
    "print(str( 100 * np.round(y.value_counts()[1] / (y.value_counts()[0] + y.value_counts()[1]), 3)) + '%')"
   ]
  },
  {
   "cell_type": "code",
   "execution_count": 83,
   "id": "00c9b4e5",
   "metadata": {},
   "outputs": [],
   "source": [
    "# Imputation for missing values; upscaling minority class\n",
    "imp = PandasSimpleImputer.PandasSimpleImputer(strategy='median', missing_values=np.nan)\n",
    "df = imp.fit_transform(dataset_transformed)\n",
    "df_test = imp.transform(test_dataset_transformed)\n",
    "\n",
    "df_majority = df[df['SeriousDlqin2yrs'] == 0]\n",
    "df_minority = df[df['SeriousDlqin2yrs'] == 1]\n",
    "\n",
    "df_minority_upsampled = resample(df_minority,\n",
    "                                     replace=True,  # sample with replacement\n",
    "                                     n_samples=len(df_majority),  # to match majority class\n",
    "                                     random_state=123)  # reproducible results\n",
    "df_upsampled = pd.concat([df_majority, df_minority_upsampled])\n",
    "df = df_upsampled"
   ]
  },
  {
   "cell_type": "code",
   "execution_count": 84,
   "id": "ce25e2d2",
   "metadata": {},
   "outputs": [],
   "source": [
    "# Split training set into X and y and scale\n",
    "X = df.drop(['SeriousDlqin2yrs','Unnamed: 0'], axis=1)\n",
    "y = df['SeriousDlqin2yrs']\n",
    "\n",
    "X_test = df_test.drop(['SeriousDlqin2yrs','Unnamed: 0'], axis=1)\n",
    "y_test = df_test['SeriousDlqin2yrs']\n",
    "\n",
    "sc = StandardScaler()\n",
    "X = sc.fit_transform(X)\n",
    "X_test = sc.transform(X_test)"
   ]
  },
  {
   "cell_type": "code",
   "execution_count": 87,
   "id": "43b10e24",
   "metadata": {},
   "outputs": [
    {
     "name": "stdout",
     "output_type": "stream",
     "text": [
      "Upsampling check; should be 50%:\n",
      "50.0%\n"
     ]
    }
   ],
   "source": [
    "print('Upsampling check; should be 50%:')\n",
    "print(str( 100 * np.round(y.value_counts()[1] / (y.value_counts()[0] + y.value_counts()[1]), 3)) + '%')"
   ]
  },
  {
   "cell_type": "code",
   "execution_count": 102,
   "id": "a3f197fc",
   "metadata": {},
   "outputs": [],
   "source": [
    "RF = RandomForestClassifier(n_estimators=100)\n",
    "GBC = GradientBoostingClassifier(max_depth=4, min_samples_split=2, min_samples_leaf=1, \n",
    "                                 subsample=1, max_features='sqrt', random_state=10, learning_rate=0.15,\n",
    "                                 n_estimators=500)\n",
    "Ada = AdaBoostClassifier(learning_rate=0.5, n_estimators=500)\n",
    "XGBC = XGBClassifier(max_depth=7, min_child_weight=1, gamma=0.1, colsample_bytree=0.8, \n",
    "                                 subsample=0.6, reg_alpha=0, n_estimators=5000, learning_rate=0.01)"
   ]
  },
  {
   "cell_type": "code",
   "execution_count": 103,
   "id": "275b2086",
   "metadata": {},
   "outputs": [],
   "source": [
    "def train_and_run(clf):\n",
    "    clf.fit(X, y)\n",
    "    pred_clf = clf.predict(X_test)\n",
    "    print(confusion_matrix(y_test, pred_clf))\n",
    "    print(classification_report(y_test, pred_clf))"
   ]
  },
  {
   "cell_type": "code",
   "execution_count": 94,
   "id": "b0795f44",
   "metadata": {},
   "outputs": [
    {
     "name": "stdout",
     "output_type": "stream",
     "text": [
      "[[34219   743]\n",
      " [ 1895   643]]\n",
      "              precision    recall  f1-score   support\n",
      "\n",
      "         0.0       0.95      0.98      0.96     34962\n",
      "         1.0       0.46      0.25      0.33      2538\n",
      "\n",
      "    accuracy                           0.93     37500\n",
      "   macro avg       0.71      0.62      0.65     37500\n",
      "weighted avg       0.91      0.93      0.92     37500\n",
      "\n"
     ]
    }
   ],
   "source": [
    "train_and_run(RF)"
   ]
  },
  {
   "cell_type": "code",
   "execution_count": 104,
   "id": "b06c1b51",
   "metadata": {},
   "outputs": [
    {
     "name": "stdout",
     "output_type": "stream",
     "text": [
      "[[29017  5945]\n",
      " [  698  1840]]\n",
      "              precision    recall  f1-score   support\n",
      "\n",
      "         0.0       0.98      0.83      0.90     34962\n",
      "         1.0       0.24      0.72      0.36      2538\n",
      "\n",
      "    accuracy                           0.82     37500\n",
      "   macro avg       0.61      0.78      0.63     37500\n",
      "weighted avg       0.93      0.82      0.86     37500\n",
      "\n"
     ]
    }
   ],
   "source": [
    "train_and_run(GBC)"
   ]
  },
  {
   "cell_type": "code",
   "execution_count": 105,
   "id": "ac5f80e5",
   "metadata": {},
   "outputs": [
    {
     "name": "stdout",
     "output_type": "stream",
     "text": [
      "[[28649  6313]\n",
      " [  660  1878]]\n",
      "              precision    recall  f1-score   support\n",
      "\n",
      "         0.0       0.98      0.82      0.89     34962\n",
      "         1.0       0.23      0.74      0.35      2538\n",
      "\n",
      "    accuracy                           0.81     37500\n",
      "   macro avg       0.60      0.78      0.62     37500\n",
      "weighted avg       0.93      0.81      0.85     37500\n",
      "\n"
     ]
    }
   ],
   "source": [
    "train_and_run(Ada)"
   ]
  },
  {
   "cell_type": "code",
   "execution_count": 106,
   "id": "f3112f8e",
   "metadata": {},
   "outputs": [
    {
     "name": "stderr",
     "output_type": "stream",
     "text": [
      "C:\\ProgramData\\Anaconda3\\lib\\site-packages\\xgboost\\sklearn.py:1224: UserWarning: The use of label encoder in XGBClassifier is deprecated and will be removed in a future release. To remove this warning, do the following: 1) Pass option use_label_encoder=False when constructing XGBClassifier object; and 2) Encode your labels (y) as integers starting with 0, i.e. 0, 1, 2, ..., [num_class - 1].\n",
      "  warnings.warn(label_encoder_deprecation_msg, UserWarning)\n"
     ]
    },
    {
     "name": "stdout",
     "output_type": "stream",
     "text": [
      "[15:17:41] WARNING: C:/Users/Administrator/workspace/xgboost-win64_release_1.5.1/src/learner.cc:1115: Starting in XGBoost 1.3.0, the default evaluation metric used with the objective 'binary:logistic' was changed from 'error' to 'logloss'. Explicitly set eval_metric if you'd like to restore the old behavior.\n",
      "[[30915  4047]\n",
      " [  923  1615]]\n",
      "              precision    recall  f1-score   support\n",
      "\n",
      "         0.0       0.97      0.88      0.93     34962\n",
      "         1.0       0.29      0.64      0.39      2538\n",
      "\n",
      "    accuracy                           0.87     37500\n",
      "   macro avg       0.63      0.76      0.66     37500\n",
      "weighted avg       0.92      0.87      0.89     37500\n",
      "\n"
     ]
    }
   ],
   "source": [
    "train_and_run(XGBC)"
   ]
  },
  {
   "cell_type": "code",
   "execution_count": null,
   "id": "93245b27",
   "metadata": {},
   "outputs": [],
   "source": []
  }
 ],
 "metadata": {
  "kernelspec": {
   "display_name": "Python 3",
   "language": "python",
   "name": "python3"
  },
  "language_info": {
   "codemirror_mode": {
    "name": "ipython",
    "version": 3
   },
   "file_extension": ".py",
   "mimetype": "text/x-python",
   "name": "python",
   "nbconvert_exporter": "python",
   "pygments_lexer": "ipython3",
   "version": "3.8.8"
  }
 },
 "nbformat": 4,
 "nbformat_minor": 5
}
