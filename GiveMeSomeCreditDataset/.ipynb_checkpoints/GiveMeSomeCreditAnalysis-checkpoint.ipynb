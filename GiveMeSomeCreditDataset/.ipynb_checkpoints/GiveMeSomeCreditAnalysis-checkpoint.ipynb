{
 "cells": [
  {
   "cell_type": "code",
   "execution_count": 28,
   "id": "1647dcaf",
   "metadata": {},
   "outputs": [],
   "source": [
    "import pandas as pd \n",
    "import numpy as np \n",
    "import seaborn as sns \n",
    "import matplotlib.pyplot as plt\n",
    "from scipy import stats"
   ]
  },
  {
   "cell_type": "code",
   "execution_count": 29,
   "id": "47eaed56",
   "metadata": {},
   "outputs": [
    {
     "data": {
      "text/html": [
       "<div>\n",
       "<style scoped>\n",
       "    .dataframe tbody tr th:only-of-type {\n",
       "        vertical-align: middle;\n",
       "    }\n",
       "\n",
       "    .dataframe tbody tr th {\n",
       "        vertical-align: top;\n",
       "    }\n",
       "\n",
       "    .dataframe thead th {\n",
       "        text-align: right;\n",
       "    }\n",
       "</style>\n",
       "<table border=\"1\" class=\"dataframe\">\n",
       "  <thead>\n",
       "    <tr style=\"text-align: right;\">\n",
       "      <th></th>\n",
       "      <th>Unnamed: 0</th>\n",
       "      <th>SeriousDlqin2yrs</th>\n",
       "      <th>RevolvingUtilizationOfUnsecuredLines</th>\n",
       "      <th>age</th>\n",
       "      <th>NumberOfTime30-59DaysPastDueNotWorse</th>\n",
       "      <th>DebtRatio</th>\n",
       "      <th>MonthlyIncome</th>\n",
       "      <th>NumberOfOpenCreditLinesAndLoans</th>\n",
       "      <th>NumberOfTimes90DaysLate</th>\n",
       "      <th>NumberRealEstateLoansOrLines</th>\n",
       "      <th>NumberOfTime60-89DaysPastDueNotWorse</th>\n",
       "      <th>NumberOfDependents</th>\n",
       "    </tr>\n",
       "  </thead>\n",
       "  <tbody>\n",
       "    <tr>\n",
       "      <th>count</th>\n",
       "      <td>112500.000000</td>\n",
       "      <td>112500.00000</td>\n",
       "      <td>112500.000000</td>\n",
       "      <td>112500.000000</td>\n",
       "      <td>112500.000000</td>\n",
       "      <td>112500.000000</td>\n",
       "      <td>9.020700e+04</td>\n",
       "      <td>112500.000000</td>\n",
       "      <td>112500.000000</td>\n",
       "      <td>112500.000000</td>\n",
       "      <td>112500.000000</td>\n",
       "      <td>109561.000000</td>\n",
       "    </tr>\n",
       "    <tr>\n",
       "      <th>mean</th>\n",
       "      <td>56250.500000</td>\n",
       "      <td>0.06656</td>\n",
       "      <td>5.845788</td>\n",
       "      <td>52.257360</td>\n",
       "      <td>0.421636</td>\n",
       "      <td>354.955053</td>\n",
       "      <td>6.649567e+03</td>\n",
       "      <td>8.450747</td>\n",
       "      <td>0.267538</td>\n",
       "      <td>1.020222</td>\n",
       "      <td>0.241573</td>\n",
       "      <td>0.756245</td>\n",
       "    </tr>\n",
       "    <tr>\n",
       "      <th>std</th>\n",
       "      <td>32476.096979</td>\n",
       "      <td>0.24926</td>\n",
       "      <td>249.858470</td>\n",
       "      <td>14.770455</td>\n",
       "      <td>4.214763</td>\n",
       "      <td>2057.143469</td>\n",
       "      <td>1.423314e+04</td>\n",
       "      <td>5.136673</td>\n",
       "      <td>4.191150</td>\n",
       "      <td>1.134902</td>\n",
       "      <td>4.177922</td>\n",
       "      <td>1.113643</td>\n",
       "    </tr>\n",
       "    <tr>\n",
       "      <th>min</th>\n",
       "      <td>1.000000</td>\n",
       "      <td>0.00000</td>\n",
       "      <td>0.000000</td>\n",
       "      <td>0.000000</td>\n",
       "      <td>0.000000</td>\n",
       "      <td>0.000000</td>\n",
       "      <td>0.000000e+00</td>\n",
       "      <td>0.000000</td>\n",
       "      <td>0.000000</td>\n",
       "      <td>0.000000</td>\n",
       "      <td>0.000000</td>\n",
       "      <td>0.000000</td>\n",
       "    </tr>\n",
       "    <tr>\n",
       "      <th>25%</th>\n",
       "      <td>28125.750000</td>\n",
       "      <td>0.00000</td>\n",
       "      <td>0.030049</td>\n",
       "      <td>41.000000</td>\n",
       "      <td>0.000000</td>\n",
       "      <td>0.175375</td>\n",
       "      <td>3.400000e+03</td>\n",
       "      <td>5.000000</td>\n",
       "      <td>0.000000</td>\n",
       "      <td>0.000000</td>\n",
       "      <td>0.000000</td>\n",
       "      <td>0.000000</td>\n",
       "    </tr>\n",
       "    <tr>\n",
       "      <th>50%</th>\n",
       "      <td>56250.500000</td>\n",
       "      <td>0.00000</td>\n",
       "      <td>0.155548</td>\n",
       "      <td>52.000000</td>\n",
       "      <td>0.000000</td>\n",
       "      <td>0.367103</td>\n",
       "      <td>5.400000e+03</td>\n",
       "      <td>8.000000</td>\n",
       "      <td>0.000000</td>\n",
       "      <td>1.000000</td>\n",
       "      <td>0.000000</td>\n",
       "      <td>0.000000</td>\n",
       "    </tr>\n",
       "    <tr>\n",
       "      <th>75%</th>\n",
       "      <td>84375.250000</td>\n",
       "      <td>0.00000</td>\n",
       "      <td>0.561336</td>\n",
       "      <td>63.000000</td>\n",
       "      <td>0.000000</td>\n",
       "      <td>0.869897</td>\n",
       "      <td>8.227000e+03</td>\n",
       "      <td>11.000000</td>\n",
       "      <td>0.000000</td>\n",
       "      <td>2.000000</td>\n",
       "      <td>0.000000</td>\n",
       "      <td>1.000000</td>\n",
       "    </tr>\n",
       "    <tr>\n",
       "      <th>max</th>\n",
       "      <td>112500.000000</td>\n",
       "      <td>1.00000</td>\n",
       "      <td>50708.000000</td>\n",
       "      <td>109.000000</td>\n",
       "      <td>98.000000</td>\n",
       "      <td>329664.000000</td>\n",
       "      <td>3.008750e+06</td>\n",
       "      <td>58.000000</td>\n",
       "      <td>98.000000</td>\n",
       "      <td>54.000000</td>\n",
       "      <td>98.000000</td>\n",
       "      <td>20.000000</td>\n",
       "    </tr>\n",
       "  </tbody>\n",
       "</table>\n",
       "</div>"
      ],
      "text/plain": [
       "          Unnamed: 0  SeriousDlqin2yrs  RevolvingUtilizationOfUnsecuredLines  \\\n",
       "count  112500.000000      112500.00000                         112500.000000   \n",
       "mean    56250.500000           0.06656                              5.845788   \n",
       "std     32476.096979           0.24926                            249.858470   \n",
       "min         1.000000           0.00000                              0.000000   \n",
       "25%     28125.750000           0.00000                              0.030049   \n",
       "50%     56250.500000           0.00000                              0.155548   \n",
       "75%     84375.250000           0.00000                              0.561336   \n",
       "max    112500.000000           1.00000                          50708.000000   \n",
       "\n",
       "                 age  NumberOfTime30-59DaysPastDueNotWorse      DebtRatio  \\\n",
       "count  112500.000000                         112500.000000  112500.000000   \n",
       "mean       52.257360                              0.421636     354.955053   \n",
       "std        14.770455                              4.214763    2057.143469   \n",
       "min         0.000000                              0.000000       0.000000   \n",
       "25%        41.000000                              0.000000       0.175375   \n",
       "50%        52.000000                              0.000000       0.367103   \n",
       "75%        63.000000                              0.000000       0.869897   \n",
       "max       109.000000                             98.000000  329664.000000   \n",
       "\n",
       "       MonthlyIncome  NumberOfOpenCreditLinesAndLoans  \\\n",
       "count   9.020700e+04                    112500.000000   \n",
       "mean    6.649567e+03                         8.450747   \n",
       "std     1.423314e+04                         5.136673   \n",
       "min     0.000000e+00                         0.000000   \n",
       "25%     3.400000e+03                         5.000000   \n",
       "50%     5.400000e+03                         8.000000   \n",
       "75%     8.227000e+03                        11.000000   \n",
       "max     3.008750e+06                        58.000000   \n",
       "\n",
       "       NumberOfTimes90DaysLate  NumberRealEstateLoansOrLines  \\\n",
       "count            112500.000000                 112500.000000   \n",
       "mean                  0.267538                      1.020222   \n",
       "std                   4.191150                      1.134902   \n",
       "min                   0.000000                      0.000000   \n",
       "25%                   0.000000                      0.000000   \n",
       "50%                   0.000000                      1.000000   \n",
       "75%                   0.000000                      2.000000   \n",
       "max                  98.000000                     54.000000   \n",
       "\n",
       "       NumberOfTime60-89DaysPastDueNotWorse  NumberOfDependents  \n",
       "count                         112500.000000       109561.000000  \n",
       "mean                               0.241573            0.756245  \n",
       "std                                4.177922            1.113643  \n",
       "min                                0.000000            0.000000  \n",
       "25%                                0.000000            0.000000  \n",
       "50%                                0.000000            0.000000  \n",
       "75%                                0.000000            1.000000  \n",
       "max                               98.000000           20.000000  "
      ]
     },
     "execution_count": 29,
     "metadata": {},
     "output_type": "execute_result"
    }
   ],
   "source": [
    "# Import the data\n",
    "dataset = pd.read_csv('GiveMeSomeCredit/cs-training.csv')\n",
    "\n",
    "# Probably best to split into train and test before doing ANYTHING\n",
    "test_dataset = dataset.iloc[int(len(dataset) * 3 / 4):, :].copy()\n",
    "dataset = dataset.iloc[:int(len(dataset) * 3 / 4), :]\n",
    "\n",
    "dataset.describe()"
   ]
  },
  {
   "cell_type": "code",
   "execution_count": 30,
   "id": "94fc95d5",
   "metadata": {},
   "outputs": [
    {
     "data": {
      "text/plain": [
       "Unnamed: 0                                  0\n",
       "SeriousDlqin2yrs                            0\n",
       "RevolvingUtilizationOfUnsecuredLines        0\n",
       "age                                         0\n",
       "NumberOfTime30-59DaysPastDueNotWorse        0\n",
       "DebtRatio                                   0\n",
       "MonthlyIncome                           22293\n",
       "NumberOfOpenCreditLinesAndLoans             0\n",
       "NumberOfTimes90DaysLate                     0\n",
       "NumberRealEstateLoansOrLines                0\n",
       "NumberOfTime60-89DaysPastDueNotWorse        0\n",
       "NumberOfDependents                       2939\n",
       "dtype: int64"
      ]
     },
     "execution_count": 30,
     "metadata": {},
     "output_type": "execute_result"
    }
   ],
   "source": [
    "dataset.isnull().sum()"
   ]
  },
  {
   "cell_type": "code",
   "execution_count": 31,
   "id": "ff9d86c7",
   "metadata": {},
   "outputs": [
    {
     "name": "stdout",
     "output_type": "stream",
     "text": [
      "<class 'pandas.core.frame.DataFrame'>\n",
      "RangeIndex: 112500 entries, 0 to 112499\n",
      "Data columns (total 12 columns):\n",
      " #   Column                                Non-Null Count   Dtype  \n",
      "---  ------                                --------------   -----  \n",
      " 0   Unnamed: 0                            112500 non-null  int64  \n",
      " 1   SeriousDlqin2yrs                      112500 non-null  int64  \n",
      " 2   RevolvingUtilizationOfUnsecuredLines  112500 non-null  float64\n",
      " 3   age                                   112500 non-null  int64  \n",
      " 4   NumberOfTime30-59DaysPastDueNotWorse  112500 non-null  int64  \n",
      " 5   DebtRatio                             112500 non-null  float64\n",
      " 6   MonthlyIncome                         90207 non-null   float64\n",
      " 7   NumberOfOpenCreditLinesAndLoans       112500 non-null  int64  \n",
      " 8   NumberOfTimes90DaysLate               112500 non-null  int64  \n",
      " 9   NumberRealEstateLoansOrLines          112500 non-null  int64  \n",
      " 10  NumberOfTime60-89DaysPastDueNotWorse  112500 non-null  int64  \n",
      " 11  NumberOfDependents                    109561 non-null  float64\n",
      "dtypes: float64(4), int64(8)\n",
      "memory usage: 10.3 MB\n"
     ]
    }
   ],
   "source": [
    "dataset.info()"
   ]
  },
  {
   "cell_type": "code",
   "execution_count": 32,
   "id": "44dbdc8e",
   "metadata": {},
   "outputs": [
    {
     "data": {
      "text/plain": [
       "0"
      ]
     },
     "execution_count": 32,
     "metadata": {},
     "output_type": "execute_result"
    }
   ],
   "source": [
    "dataset.duplicated().sum()"
   ]
  },
  {
   "cell_type": "code",
   "execution_count": 33,
   "id": "b59d7476",
   "metadata": {},
   "outputs": [
    {
     "data": {
      "text/html": [
       "<div>\n",
       "<style scoped>\n",
       "    .dataframe tbody tr th:only-of-type {\n",
       "        vertical-align: middle;\n",
       "    }\n",
       "\n",
       "    .dataframe tbody tr th {\n",
       "        vertical-align: top;\n",
       "    }\n",
       "\n",
       "    .dataframe thead th {\n",
       "        text-align: right;\n",
       "    }\n",
       "</style>\n",
       "<table border=\"1\" class=\"dataframe\">\n",
       "  <thead>\n",
       "    <tr style=\"text-align: right;\">\n",
       "      <th></th>\n",
       "      <th>Unnamed: 0</th>\n",
       "      <th>SeriousDlqin2yrs</th>\n",
       "      <th>RevolvingUtilizationOfUnsecuredLines</th>\n",
       "      <th>age</th>\n",
       "      <th>NumberOfTime30-59DaysPastDueNotWorse</th>\n",
       "      <th>DebtRatio</th>\n",
       "      <th>MonthlyIncome</th>\n",
       "      <th>NumberOfOpenCreditLinesAndLoans</th>\n",
       "      <th>NumberOfTimes90DaysLate</th>\n",
       "      <th>NumberRealEstateLoansOrLines</th>\n",
       "      <th>NumberOfTime60-89DaysPastDueNotWorse</th>\n",
       "      <th>NumberOfDependents</th>\n",
       "    </tr>\n",
       "  </thead>\n",
       "  <tbody>\n",
       "    <tr>\n",
       "      <th>min</th>\n",
       "      <td>1</td>\n",
       "      <td>0</td>\n",
       "      <td>0.0</td>\n",
       "      <td>0</td>\n",
       "      <td>0</td>\n",
       "      <td>0.0</td>\n",
       "      <td>0.0</td>\n",
       "      <td>0</td>\n",
       "      <td>0</td>\n",
       "      <td>0</td>\n",
       "      <td>0</td>\n",
       "      <td>0.0</td>\n",
       "    </tr>\n",
       "    <tr>\n",
       "      <th>max</th>\n",
       "      <td>112500</td>\n",
       "      <td>1</td>\n",
       "      <td>50708.0</td>\n",
       "      <td>109</td>\n",
       "      <td>98</td>\n",
       "      <td>329664.0</td>\n",
       "      <td>3008750.0</td>\n",
       "      <td>58</td>\n",
       "      <td>98</td>\n",
       "      <td>54</td>\n",
       "      <td>98</td>\n",
       "      <td>20.0</td>\n",
       "    </tr>\n",
       "  </tbody>\n",
       "</table>\n",
       "</div>"
      ],
      "text/plain": [
       "     Unnamed: 0  SeriousDlqin2yrs  RevolvingUtilizationOfUnsecuredLines  age  \\\n",
       "min           1                 0                                   0.0    0   \n",
       "max      112500                 1                               50708.0  109   \n",
       "\n",
       "     NumberOfTime30-59DaysPastDueNotWorse  DebtRatio  MonthlyIncome  \\\n",
       "min                                     0        0.0            0.0   \n",
       "max                                    98   329664.0      3008750.0   \n",
       "\n",
       "     NumberOfOpenCreditLinesAndLoans  NumberOfTimes90DaysLate  \\\n",
       "min                                0                        0   \n",
       "max                               58                       98   \n",
       "\n",
       "     NumberRealEstateLoansOrLines  NumberOfTime60-89DaysPastDueNotWorse  \\\n",
       "min                             0                                     0   \n",
       "max                            54                                    98   \n",
       "\n",
       "     NumberOfDependents  \n",
       "min                 0.0  \n",
       "max                20.0  "
      ]
     },
     "execution_count": 33,
     "metadata": {},
     "output_type": "execute_result"
    }
   ],
   "source": [
    "# Check for outliers\n",
    "dataset.agg(['min','max']).round(2)"
   ]
  },
  {
   "cell_type": "code",
   "execution_count": 34,
   "id": "963b71b1",
   "metadata": {},
   "outputs": [
    {
     "data": {
      "image/png": "[encoded data removed]",
      "text/plain": [
       "<Figure size 720x720 with 3 Axes>"
      ]
     },
     "metadata": {
      "needs_background": "light"
     },
     "output_type": "display_data"
    }
   ],
   "source": [
    "# Since I know roughly what each column should look like, \n",
    "# looking at these min and max is enough to think about which have outliers\n",
    "# For example, you'd expect there to be a massive variance/skew in the monthly income\n",
    "# Here I look in more depth\n",
    "\n",
    "lookat = ['RevolvingUtilizationOfUnsecuredLines', 'DebtRatio', 'NumberOfDependents']\n",
    "\n",
    "plt.rcParams['figure.figsize'] = [10, 10]\n",
    "\n",
    "fig, (ax_1, ax_2 ,ax_3) = plt.subplots(3)\n",
    "fig.subplots_adjust(hspace = 0.25) \n",
    "ax = [ax_1, ax_2, ax_3] # I know this is weird code but can't be bothered finding what the proper fix is\n",
    "for i in range(3):\n",
    "    sns.boxplot(ax=ax[i], data=dataset, x=lookat[i])"
   ]
  },
  {
   "cell_type": "code",
   "execution_count": 35,
   "id": "1e94bce5",
   "metadata": {},
   "outputs": [
    {
     "data": {
      "text/plain": [
       "MonthlyIncome                           128.852253\n",
       "RevolvingUtilizationOfUnsecuredLines    110.156858\n",
       "DebtRatio                                93.136502\n",
       "NumberOfTime60-89DaysPastDueNotWorse     23.206666\n",
       "NumberOfTimes90DaysLate                  22.978025\n",
       "NumberOfTime30-59DaysPastDueNotWorse     22.491301\n",
       "NumberRealEstateLoansOrLines              3.750909\n",
       "SeriousDlqin2yrs                          3.477883\n",
       "NumberOfDependents                        1.591755\n",
       "NumberOfOpenCreditLinesAndLoans           1.192836\n",
       "age                                       0.187469\n",
       "Unnamed: 0                                0.000000\n",
       "dtype: float64"
      ]
     },
     "execution_count": 35,
     "metadata": {},
     "output_type": "execute_result"
    }
   ],
   "source": [
    "dataset.skew().sort_values(ascending=False)"
   ]
  },
  {
   "cell_type": "code",
   "execution_count": 36,
   "id": "446e5b80",
   "metadata": {},
   "outputs": [],
   "source": [
    "# Remove outliers\n",
    "dataset = dataset.loc[dataset['RevolvingUtilizationOfUnsecuredLines'] < 15000]\n",
    "dataset = dataset.loc[dataset['DebtRatio'] < 100000]\n",
    "dataset = dataset.loc[dataset['NumberOfDependents'] < 10]\n",
    "\n",
    "# Data is highly skewed, not good not good\n",
    "dataset_transformed = dataset.copy()\n",
    "\n",
    "# Try the log of some of this data to reduce skew\n",
    "dataset_transformed['logMonthlyIncome'] = np.log(dataset['MonthlyIncome'] + 1)\n",
    "dataset_transformed['logRevolvingUtilizationOfUnsecuredLines'] = np.log(dataset['RevolvingUtilizationOfUnsecuredLines'] + 1)\n",
    "dataset_transformed['logDebtRatio'] = np.log(dataset['DebtRatio'] + 1)\n",
    "dataset_transformed['logMonthlyIncome'] = np.log(dataset['MonthlyIncome'] + 1)\n",
    "dataset_transformed['logNumberOfTime60-89DaysPastDueNotWorse'] = np.log(dataset['NumberOfTime60-89DaysPastDueNotWorse'] + 1)\n",
    "dataset_transformed['logNumberOfTime30-59DaysPastDueNotWorse'] = np.log(dataset['NumberOfTime30-59DaysPastDueNotWorse'] + 1)\n",
    "dataset_transformed['logNumberOfTimes90DaysLate'] = np.log(dataset['NumberOfTimes90DaysLate'] + 1)\n",
    "\n",
    "\n",
    "dataset_transformed.drop(['RevolvingUtilizationOfUnsecuredLines', 'DebtRatio', 'MonthlyIncome', \n",
    "                          'NumberOfTime60-89DaysPastDueNotWorse', 'NumberOfTime30-59DaysPastDueNotWorse',\n",
    "                          'NumberOfTimes90DaysLate'], inplace=True, axis=1)"
   ]
  },
  {
   "cell_type": "code",
   "execution_count": 37,
   "id": "ae93af62",
   "metadata": {},
   "outputs": [
    {
     "data": {
      "text/plain": [
       "logRevolvingUtilizationOfUnsecuredLines    11.329325\n",
       "logNumberOfTime60-89DaysPastDueNotWorse    10.560204\n",
       "logNumberOfTimes90DaysLate                  8.683401\n",
       "logNumberOfTime30-59DaysPastDueNotWorse     4.155167\n",
       "NumberRealEstateLoansOrLines                3.755882\n",
       "SeriousDlqin2yrs                            3.459557\n",
       "logDebtRatio                                1.874417\n",
       "NumberOfDependents                          1.537121\n",
       "NumberOfOpenCreditLinesAndLoans             1.192880\n",
       "age                                         0.187704\n",
       "Unnamed: 0                                 -0.000695\n",
       "logMonthlyIncome                           -4.370081\n",
       "dtype: float64"
      ]
     },
     "execution_count": 37,
     "metadata": {},
     "output_type": "execute_result"
    }
   ],
   "source": [
    "dataset_transformed.skew().sort_values(ascending=False)"
   ]
  },
  {
   "cell_type": "code",
   "execution_count": 27,
   "id": "2445073d",
   "metadata": {},
   "outputs": [
    {
     "data": {
      "text/html": [
       "<div>\n",
       "<style scoped>\n",
       "    .dataframe tbody tr th:only-of-type {\n",
       "        vertical-align: middle;\n",
       "    }\n",
       "\n",
       "    .dataframe tbody tr th {\n",
       "        vertical-align: top;\n",
       "    }\n",
       "\n",
       "    .dataframe thead th {\n",
       "        text-align: right;\n",
       "    }\n",
       "</style>\n",
       "<table border=\"1\" class=\"dataframe\">\n",
       "  <thead>\n",
       "    <tr style=\"text-align: right;\">\n",
       "      <th></th>\n",
       "      <th>Unnamed: 0</th>\n",
       "      <th>SeriousDlqin2yrs</th>\n",
       "      <th>age</th>\n",
       "      <th>NumberOfOpenCreditLinesAndLoans</th>\n",
       "      <th>NumberRealEstateLoansOrLines</th>\n",
       "      <th>NumberOfDependents</th>\n",
       "      <th>logMonthlyIncome</th>\n",
       "      <th>logRevolvingUtilizationOfUnsecuredLines</th>\n",
       "      <th>logDebtRatio</th>\n",
       "      <th>logNumberOfTime60-89DaysPastDueNotWorse</th>\n",
       "      <th>logNumberOfTime30-59DaysPastDueNotWorse</th>\n",
       "      <th>logNumberOfTimes90DaysLate</th>\n",
       "    </tr>\n",
       "  </thead>\n",
       "  <tbody>\n",
       "  </tbody>\n",
       "</table>\n",
       "</div>"
      ],
      "text/plain": [
       "Empty DataFrame\n",
       "Columns: [Unnamed: 0, SeriousDlqin2yrs, age, NumberOfOpenCreditLinesAndLoans, NumberRealEstateLoansOrLines, NumberOfDependents, logMonthlyIncome, logRevolvingUtilizationOfUnsecuredLines, logDebtRatio, logNumberOfTime60-89DaysPastDueNotWorse, logNumberOfTime30-59DaysPastDueNotWorse, logNumberOfTimes90DaysLate]\n",
       "Index: []"
      ]
     },
     "execution_count": 27,
     "metadata": {},
     "output_type": "execute_result"
    }
   ],
   "source": [
    "dataset_transformed"
   ]
  },
  {
   "cell_type": "code",
   "execution_count": null,
   "id": "39b6a4dc",
   "metadata": {},
   "outputs": [],
   "source": []
  },
  {
   "cell_type": "code",
   "execution_count": null,
   "id": "bbfed688",
   "metadata": {},
   "outputs": [],
   "source": []
  },
  {
   "cell_type": "code",
   "execution_count": null,
   "id": "354970ca",
   "metadata": {},
   "outputs": [],
   "source": []
  }
 ],
 "metadata": {
  "kernelspec": {
   "display_name": "Python 3",
   "language": "python",
   "name": "python3"
  },
  "language_info": {
   "codemirror_mode": {
    "name": "ipython",
    "version": 3
   },
   "file_extension": ".py",
   "mimetype": "text/x-python",
   "name": "python",
   "nbconvert_exporter": "python",
   "pygments_lexer": "ipython3",
   "version": "3.8.8"
  }
 },
 "nbformat": 4,
 "nbformat_minor": 5
}
