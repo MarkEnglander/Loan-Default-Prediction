{
 "cells": [
  {
   "cell_type": "code",
   "execution_count": 1,
   "id": "30d973ae",
   "metadata": {},
   "outputs": [],
   "source": [
    "import pandas as pd\n",
    "import numpy as np\n",
    "import matplotlib.pyplot as plt\n",
    "import scipy.stats as spy\n",
    "\n",
    "from sklearn.model_selection import train_test_split\n",
    "from sklearn.preprocessing import StandardScaler\n",
    "from sklearn.ensemble import RandomForestClassifier\n",
    "from sklearn.metrics import confusion_matrix\n",
    "from sklearn.metrics import classification_report"
   ]
  },
  {
   "cell_type": "code",
   "execution_count": 2,
   "id": "177fb0fb",
   "metadata": {},
   "outputs": [],
   "source": [
    "import useful_functions\n",
    "import PandasSimpleImputer"
   ]
  },
  {
   "cell_type": "code",
   "execution_count": 3,
   "id": "b19404fb",
   "metadata": {},
   "outputs": [],
   "source": [
    "import reliefF"
   ]
  },
  {
   "cell_type": "markdown",
   "id": "33496f03",
   "metadata": {},
   "source": [
    "### Data pre-processing\n",
    "\n",
    "- Load in the data\n",
    "- Separate into train, validation, and test splits\n",
    "- Use median strategy for imputation of missing data\n",
    "- Re-scale"
   ]
  },
  {
   "cell_type": "code",
   "execution_count": 4,
   "id": "35d1b332",
   "metadata": {},
   "outputs": [
    {
     "name": "stderr",
     "output_type": "stream",
     "text": [
      "C:\\ProgramData\\Anaconda3\\lib\\site-packages\\IPython\\core\\interactiveshell.py:3165: DtypeWarning: Columns (135,204,274,417) have mixed types.Specify dtype option on import or set low_memory=False.\n",
      "  has_raised = await self.run_ast_nodes(code_ast.body, cell_name,\n"
     ]
    }
   ],
   "source": [
    "data = pd.read_csv('data/train_v2.csv')\n",
    "data = useful_functions.clean_dataset(data, delete_missing_data=False)\n",
    "data = data.drop(['id', 'index'], axis=1)\n",
    "\n",
    "X = data.drop(['loss'], axis=1)\n",
    "y = data['loss']\n",
    "\n",
    "X_train, X_test, y_train, y_test = train_test_split(X, y, test_size=0.2, random_state=1)\n",
    "X_train, X_val, y_train, y_val = train_test_split(X_train, y_train, test_size=0.25, random_state=1)\n",
    "    \n",
    "imp = PandasSimpleImputer.PandasSimpleImputer(strategy='median', missing_values=np.nan)\n",
    "X_train = imp.fit_transform(X_train)\n",
    "X_test = imp.transform(X_test)\n",
    "X_val = imp.transform(X_val)\n",
    "\n",
    "sc = StandardScaler()\n",
    "X_train = sc.fit_transform(X_train)\n",
    "X_test = sc.transform(X_test)\n",
    "X_val = sc.transform(X_val)"
   ]
  },
  {
   "cell_type": "markdown",
   "id": "c17f94e3",
   "metadata": {},
   "source": [
    "### The Feature Generation Functions\n",
    "(The following is a paraphrased version of the description in my dissertation followed by the specifics of each function.)\n",
    "\n",
    "The ICL dataset does not have labelled features. The ICL is great because it has many features, but the trade off is that we don't know what they represent. Ordinarily, when looking to generate features, there are at least some hints. For example, if you have the features 'distance' and 'time', you could generate the feature 'speed' using speed = distance / time. In this case we don't have the privilege of making educated guesses.\n",
    "\n",
    "The solution I employ therefore is to generate all possible pairs of features for each operation +, -, \\*. Once generated, I check its pearson correlation with the target feature. If a 3-tuple of two features and an operation is such that this correlation is less than some `sig` then the 4-tuple will be recorded, where the first 3 elements are from the previous 3-tuple and the final is the `op` that should be used.\n",
    "\n",
    "- `get_corr_pairs` requires an `op` (i.e., a 2-function that performs the operation) and returns the list of good 3-tuples (as defined above).\n",
    "- `get_corr_pairs_plus`, `get_corr_pairs_minus` and `get_corr_pairs_mult` use the above function, feeding in `lambda a,b: a+b`, etc., for `op`.\n",
    "- `get_all_corr_pairs` calls all three functions in the above bullet point and concatenates the lists they return"
   ]
  },
  {
   "cell_type": "code",
   "execution_count": 5,
   "id": "9a9593df",
   "metadata": {},
   "outputs": [],
   "source": [
    "def get_corr_pairs(X, y, op, op_name, sig=0.01, suppress_checkpoints=True):\n",
    "    good_pairs = []\n",
    "    no_features = len(X[0])\n",
    "    for i in range(no_features):\n",
    "        if i % 100 == 0 and not suppress_checkpoints:\n",
    "            print('Outer loop up to feature ' + str(i) + '.')\n",
    "        for j in range(i+1, no_features):\n",
    "            corr, _ = spy.pearsonr(op(X[:, i], X[:, j]), y)\n",
    "            if sig < abs(corr):\n",
    "                good_pair = (i, j, corr, op_name)\n",
    "                good_pairs.append(good_pair)\n",
    "    return good_pairs\n",
    "                \n",
    "\n",
    "def get_corr_pairs_plus(X, y, sig=0.01, suppress_checkpoints=True):\n",
    "    plus_pairs = get_corr_pairs(X, y, lambda a,b: a+b, 'plus', sig=sig, suppress_checkpoints=suppress_checkpoints)\n",
    "    return plus_pairs\n",
    "\n",
    "\n",
    "def get_corr_pairs_minus(X, y, sig=0.01, suppress_checkpoints=True):\n",
    "    minus_pairs = get_corr_pairs(X, y, lambda a,b: a-b, 'minus', sig=sig, suppress_checkpoints=suppress_checkpoints)\n",
    "    return minus_pairs\n",
    "    \n",
    "\n",
    "def get_corr_pairs_mult(X, y, sig=0.01, suppress_checkpoints=True):\n",
    "    mult_pairs = get_corr_pairs(X, y, lambda a,b: a*b, 'mult', sig=sig, suppress_checkpoints=suppress_checkpoints)\n",
    "    return mult_pairs\n",
    "\n",
    "\n",
    "def get_all_corr_pairs(X, y, sig=0.01, suppress_checkpoints=True):\n",
    "    all_pairs = get_corr_pairs_plus(X, y, sig, suppress_checkpoints)\n",
    "    if not suppress_checkpoints:\n",
    "        print('Plus pairs done')\n",
    "    all_pairs.extend(get_corr_pairs_minus(X, y, sig, suppress_checkpoints))\n",
    "    if not suppress_checkpoints:\n",
    "        print('Minus pairs done')\n",
    "    all_pairs.extend(get_corr_pairs_mult(X, y, sig, suppress_checkpoints))\n",
    "    if not suppress_checkpoints:\n",
    "        print('Mult pairs done')\n",
    "    return all_pairs"
   ]
  },
  {
   "cell_type": "markdown",
   "id": "e933aa7c",
   "metadata": {},
   "source": [
    "The following three cells are for use if you don't already have what they generate"
   ]
  },
  {
   "cell_type": "code",
   "execution_count": 20,
   "id": "be7387b0",
   "metadata": {},
   "outputs": [
    {
     "name": "stderr",
     "output_type": "stream",
     "text": [
      "C:\\ProgramData\\Anaconda3\\lib\\site-packages\\scipy\\stats\\stats.py:3913: PearsonRConstantInputWarning: An input array is constant; the correlation coefficent is not defined.\n",
      "  warnings.warn(PearsonRConstantInputWarning())\n"
     ]
    }
   ],
   "source": [
    "pairs = get_all_corr_pairs(X_train, y_train, sig=0.013, suppress_checkpoints=True)"
   ]
  },
  {
   "cell_type": "code",
   "execution_count": null,
   "id": "d8b55929",
   "metadata": {},
   "outputs": [],
   "source": [
    "best_pairs_df = pd.DataFrame.from_records(pairs, columns = ['i_feature', 'j_feature', 'corr_w_target', 'operation'])"
   ]
  },
  {
   "cell_type": "code",
   "execution_count": 55,
   "id": "bb4ee9b6",
   "metadata": {},
   "outputs": [
    {
     "data": {
      "text/html": [
       "<div>\n",
       "<style scoped>\n",
       "    .dataframe tbody tr th:only-of-type {\n",
       "        vertical-align: middle;\n",
       "    }\n",
       "\n",
       "    .dataframe tbody tr th {\n",
       "        vertical-align: top;\n",
       "    }\n",
       "\n",
       "    .dataframe thead th {\n",
       "        text-align: right;\n",
       "    }\n",
       "</style>\n",
       "<table border=\"1\" class=\"dataframe\">\n",
       "  <thead>\n",
       "    <tr style=\"text-align: right;\">\n",
       "      <th></th>\n",
       "      <th>i_feature</th>\n",
       "      <th>j_feature</th>\n",
       "      <th>corr_w_target</th>\n",
       "      <th>operation</th>\n",
       "    </tr>\n",
       "  </thead>\n",
       "  <tbody>\n",
       "    <tr>\n",
       "      <th>5279</th>\n",
       "      <td>271</td>\n",
       "      <td>518</td>\n",
       "      <td>-0.155469</td>\n",
       "      <td>minus</td>\n",
       "    </tr>\n",
       "    <tr>\n",
       "      <th>7005</th>\n",
       "      <td>517</td>\n",
       "      <td>518</td>\n",
       "      <td>-0.143993</td>\n",
       "      <td>minus</td>\n",
       "    </tr>\n",
       "    <tr>\n",
       "      <th>5278</th>\n",
       "      <td>271</td>\n",
       "      <td>517</td>\n",
       "      <td>-0.082747</td>\n",
       "      <td>minus</td>\n",
       "    </tr>\n",
       "    <tr>\n",
       "      <th>2233</th>\n",
       "      <td>464</td>\n",
       "      <td>526</td>\n",
       "      <td>0.046875</td>\n",
       "      <td>plus</td>\n",
       "    </tr>\n",
       "    <tr>\n",
       "      <th>15191</th>\n",
       "      <td>526</td>\n",
       "      <td>545</td>\n",
       "      <td>0.045942</td>\n",
       "      <td>mult</td>\n",
       "    </tr>\n",
       "  </tbody>\n",
       "</table>\n",
       "</div>"
      ],
      "text/plain": [
       "       i_feature  j_feature  corr_w_target operation\n",
       "5279         271        518      -0.155469     minus\n",
       "7005         517        518      -0.143993     minus\n",
       "5278         271        517      -0.082747     minus\n",
       "2233         464        526       0.046875      plus\n",
       "15191        526        545       0.045942      mult"
      ]
     },
     "execution_count": 55,
     "metadata": {},
     "output_type": "execute_result"
    }
   ],
   "source": [
    "best_pairs_df.sort_values(by='corr_w_target', key=abs, inplace=True, ascending=False)\n",
    "best_pairs_df.to_csv('best-pairs.csv')\n",
    "best_pairs_df.head(5)"
   ]
  },
  {
   "cell_type": "markdown",
   "id": "15232021",
   "metadata": {},
   "source": [
    "Or you can just import what the above three generate if you have the file..."
   ]
  },
  {
   "cell_type": "code",
   "execution_count": 6,
   "id": "f188b038",
   "metadata": {},
   "outputs": [
    {
     "data": {
      "text/html": [
       "<div>\n",
       "<style scoped>\n",
       "    .dataframe tbody tr th:only-of-type {\n",
       "        vertical-align: middle;\n",
       "    }\n",
       "\n",
       "    .dataframe tbody tr th {\n",
       "        vertical-align: top;\n",
       "    }\n",
       "\n",
       "    .dataframe thead th {\n",
       "        text-align: right;\n",
       "    }\n",
       "</style>\n",
       "<table border=\"1\" class=\"dataframe\">\n",
       "  <thead>\n",
       "    <tr style=\"text-align: right;\">\n",
       "      <th></th>\n",
       "      <th>i_feature</th>\n",
       "      <th>j_feature</th>\n",
       "      <th>corr_w_target</th>\n",
       "      <th>operation</th>\n",
       "    </tr>\n",
       "  </thead>\n",
       "  <tbody>\n",
       "    <tr>\n",
       "      <th>0</th>\n",
       "      <td>271</td>\n",
       "      <td>518</td>\n",
       "      <td>-0.155469</td>\n",
       "      <td>minus</td>\n",
       "    </tr>\n",
       "    <tr>\n",
       "      <th>1</th>\n",
       "      <td>517</td>\n",
       "      <td>518</td>\n",
       "      <td>-0.143993</td>\n",
       "      <td>minus</td>\n",
       "    </tr>\n",
       "    <tr>\n",
       "      <th>2</th>\n",
       "      <td>271</td>\n",
       "      <td>517</td>\n",
       "      <td>-0.082747</td>\n",
       "      <td>minus</td>\n",
       "    </tr>\n",
       "    <tr>\n",
       "      <th>3</th>\n",
       "      <td>464</td>\n",
       "      <td>526</td>\n",
       "      <td>0.046875</td>\n",
       "      <td>plus</td>\n",
       "    </tr>\n",
       "    <tr>\n",
       "      <th>4</th>\n",
       "      <td>526</td>\n",
       "      <td>545</td>\n",
       "      <td>0.045942</td>\n",
       "      <td>mult</td>\n",
       "    </tr>\n",
       "  </tbody>\n",
       "</table>\n",
       "</div>"
      ],
      "text/plain": [
       "   i_feature  j_feature  corr_w_target operation\n",
       "0        271        518      -0.155469     minus\n",
       "1        517        518      -0.143993     minus\n",
       "2        271        517      -0.082747     minus\n",
       "3        464        526       0.046875      plus\n",
       "4        526        545       0.045942      mult"
      ]
     },
     "execution_count": 6,
     "metadata": {},
     "output_type": "execute_result"
    }
   ],
   "source": [
    "best_pairs_df = pd.read_csv('best-pairs.csv')\n",
    "best_pairs_df.drop(['Unnamed: 0'], axis=1, inplace=True)\n",
    "best_pairs_df.head(5)"
   ]
  },
  {
   "cell_type": "markdown",
   "id": "ed3384cc",
   "metadata": {},
   "source": [
    "### Generating the highly correlated features\n",
    "Given some `X` matrix and a DataFrame `best_pair_df` which has the stated 4-tuples, `gen_new_dataset` returns `X` with the top `n` additional features generated and added to it."
   ]
  },
  {
   "cell_type": "code",
   "execution_count": 7,
   "id": "e363c3a8",
   "metadata": {},
   "outputs": [],
   "source": [
    "def gen_new_dataset(X, best_pairs_df, n=100):\n",
    "    X_new = pd.DataFrame(X.copy())\n",
    "    i = 'i_feature'\n",
    "    j = 'j_feature'\n",
    "    for index, row in best_pairs_df.iterrows():\n",
    "        if index < 100:\n",
    "            if row['operation'] == 'minus':\n",
    "                X_new[str(row[i]) + '-' + str(row[j])] = X_new.iloc[:, row[i]] - X_new.iloc[:, row[j]]\n",
    "            if row['operation'] == 'plus':\n",
    "                X_new[str(row[i]) + '+' + str(row[j])] = X_new.iloc[:, row[i]] + X_new.iloc[:, row[j]]\n",
    "            if row['operation'] == 'mult':\n",
    "                X_new[str(row[i]) + '*' + str(row[j])] = X_new.iloc[:, row[i]] * X_new.iloc[:, row[j]]\n",
    "    return X_new.to_numpy()"
   ]
  },
  {
   "cell_type": "code",
   "execution_count": 11,
   "id": "c906edf4",
   "metadata": {},
   "outputs": [],
   "source": [
    "X_train_new = gen_new_dataset(X_train, best_pairs_df, 100)\n",
    "X_val_new = gen_new_dataset(X_val, best_pairs_df, 100)\n",
    "X_test_new = gen_new_dataset(X_test, best_pairs_df, 100)\n",
    "X_new = np.concatenate([X_train_new, X_val_new, X_test_new])"
   ]
  },
  {
   "cell_type": "code",
   "execution_count": 12,
   "id": "d578f15c",
   "metadata": {},
   "outputs": [
    {
     "ename": "KeyboardInterrupt",
     "evalue": "",
     "output_type": "error",
     "traceback": [
      "\u001b[1;31m---------------------------------------------------------------------------\u001b[0m",
      "\u001b[1;31mKeyboardInterrupt\u001b[0m                         Traceback (most recent call last)",
      "\u001b[1;32m<ipython-input-12-658a87a63f6d>\u001b[0m in \u001b[0;36m<module>\u001b[1;34m\u001b[0m\n\u001b[1;32m----> 1\u001b[1;33m \u001b[0mpd\u001b[0m\u001b[1;33m.\u001b[0m\u001b[0mDataFrame\u001b[0m\u001b[1;33m(\u001b[0m\u001b[0mX_train_new\u001b[0m\u001b[1;33m)\u001b[0m\u001b[1;33m.\u001b[0m\u001b[0mto_csv\u001b[0m\u001b[1;33m(\u001b[0m\u001b[1;34m'generated-data/X-train-new.csv'\u001b[0m\u001b[1;33m)\u001b[0m\u001b[1;33m\u001b[0m\u001b[1;33m\u001b[0m\u001b[0m\n\u001b[0m\u001b[0;32m      2\u001b[0m \u001b[0mpd\u001b[0m\u001b[1;33m.\u001b[0m\u001b[0mDataFrame\u001b[0m\u001b[1;33m(\u001b[0m\u001b[0mX_val_new\u001b[0m\u001b[1;33m)\u001b[0m\u001b[1;33m.\u001b[0m\u001b[0mto_csv\u001b[0m\u001b[1;33m(\u001b[0m\u001b[1;34m'generated-data/X-val-new.csv'\u001b[0m\u001b[1;33m)\u001b[0m\u001b[1;33m\u001b[0m\u001b[1;33m\u001b[0m\u001b[0m\n\u001b[0;32m      3\u001b[0m \u001b[0mpd\u001b[0m\u001b[1;33m.\u001b[0m\u001b[0mDataFrame\u001b[0m\u001b[1;33m(\u001b[0m\u001b[0mX_test_new\u001b[0m\u001b[1;33m)\u001b[0m\u001b[1;33m.\u001b[0m\u001b[0mto_csv\u001b[0m\u001b[1;33m(\u001b[0m\u001b[1;34m'generated-data/X-test-new.csv'\u001b[0m\u001b[1;33m)\u001b[0m\u001b[1;33m\u001b[0m\u001b[1;33m\u001b[0m\u001b[0m\n\u001b[0;32m      4\u001b[0m \u001b[0mpd\u001b[0m\u001b[1;33m.\u001b[0m\u001b[0mDataFrame\u001b[0m\u001b[1;33m(\u001b[0m\u001b[0mX_new\u001b[0m\u001b[1;33m)\u001b[0m\u001b[1;33m.\u001b[0m\u001b[0mto_csv\u001b[0m\u001b[1;33m(\u001b[0m\u001b[1;34m'generated-data/X-new.csv'\u001b[0m\u001b[1;33m)\u001b[0m\u001b[1;33m\u001b[0m\u001b[1;33m\u001b[0m\u001b[0m\n",
      "\u001b[1;32mC:\\ProgramData\\Anaconda3\\lib\\site-packages\\pandas\\core\\generic.py\u001b[0m in \u001b[0;36mto_csv\u001b[1;34m(self, path_or_buf, sep, na_rep, float_format, columns, header, index, index_label, mode, encoding, compression, quoting, quotechar, line_terminator, chunksize, date_format, doublequote, escapechar, decimal, errors, storage_options)\u001b[0m\n\u001b[0;32m   3385\u001b[0m         )\n\u001b[0;32m   3386\u001b[0m \u001b[1;33m\u001b[0m\u001b[0m\n\u001b[1;32m-> 3387\u001b[1;33m         return DataFrameRenderer(formatter).to_csv(\n\u001b[0m\u001b[0;32m   3388\u001b[0m             \u001b[0mpath_or_buf\u001b[0m\u001b[1;33m,\u001b[0m\u001b[1;33m\u001b[0m\u001b[1;33m\u001b[0m\u001b[0m\n\u001b[0;32m   3389\u001b[0m             \u001b[0mline_terminator\u001b[0m\u001b[1;33m=\u001b[0m\u001b[0mline_terminator\u001b[0m\u001b[1;33m,\u001b[0m\u001b[1;33m\u001b[0m\u001b[1;33m\u001b[0m\u001b[0m\n",
      "\u001b[1;32mC:\\ProgramData\\Anaconda3\\lib\\site-packages\\pandas\\io\\formats\\format.py\u001b[0m in \u001b[0;36mto_csv\u001b[1;34m(self, path_or_buf, encoding, sep, columns, index_label, mode, compression, quoting, quotechar, line_terminator, chunksize, date_format, doublequote, escapechar, errors, storage_options)\u001b[0m\n\u001b[0;32m   1081\u001b[0m             \u001b[0mformatter\u001b[0m\u001b[1;33m=\u001b[0m\u001b[0mself\u001b[0m\u001b[1;33m.\u001b[0m\u001b[0mfmt\u001b[0m\u001b[1;33m,\u001b[0m\u001b[1;33m\u001b[0m\u001b[1;33m\u001b[0m\u001b[0m\n\u001b[0;32m   1082\u001b[0m         )\n\u001b[1;32m-> 1083\u001b[1;33m         \u001b[0mcsv_formatter\u001b[0m\u001b[1;33m.\u001b[0m\u001b[0msave\u001b[0m\u001b[1;33m(\u001b[0m\u001b[1;33m)\u001b[0m\u001b[1;33m\u001b[0m\u001b[1;33m\u001b[0m\u001b[0m\n\u001b[0m\u001b[0;32m   1084\u001b[0m \u001b[1;33m\u001b[0m\u001b[0m\n\u001b[0;32m   1085\u001b[0m         \u001b[1;32mif\u001b[0m \u001b[0mcreated_buffer\u001b[0m\u001b[1;33m:\u001b[0m\u001b[1;33m\u001b[0m\u001b[1;33m\u001b[0m\u001b[0m\n",
      "\u001b[1;32mC:\\ProgramData\\Anaconda3\\lib\\site-packages\\pandas\\io\\formats\\csvs.py\u001b[0m in \u001b[0;36msave\u001b[1;34m(self)\u001b[0m\n\u001b[0;32m    246\u001b[0m             )\n\u001b[0;32m    247\u001b[0m \u001b[1;33m\u001b[0m\u001b[0m\n\u001b[1;32m--> 248\u001b[1;33m             \u001b[0mself\u001b[0m\u001b[1;33m.\u001b[0m\u001b[0m_save\u001b[0m\u001b[1;33m(\u001b[0m\u001b[1;33m)\u001b[0m\u001b[1;33m\u001b[0m\u001b[1;33m\u001b[0m\u001b[0m\n\u001b[0m\u001b[0;32m    249\u001b[0m \u001b[1;33m\u001b[0m\u001b[0m\n\u001b[0;32m    250\u001b[0m     \u001b[1;32mdef\u001b[0m \u001b[0m_save\u001b[0m\u001b[1;33m(\u001b[0m\u001b[0mself\u001b[0m\u001b[1;33m)\u001b[0m \u001b[1;33m->\u001b[0m \u001b[1;32mNone\u001b[0m\u001b[1;33m:\u001b[0m\u001b[1;33m\u001b[0m\u001b[1;33m\u001b[0m\u001b[0m\n",
      "\u001b[1;32mC:\\ProgramData\\Anaconda3\\lib\\site-packages\\pandas\\io\\formats\\csvs.py\u001b[0m in \u001b[0;36m_save\u001b[1;34m(self)\u001b[0m\n\u001b[0;32m    251\u001b[0m         \u001b[1;32mif\u001b[0m \u001b[0mself\u001b[0m\u001b[1;33m.\u001b[0m\u001b[0m_need_to_save_header\u001b[0m\u001b[1;33m:\u001b[0m\u001b[1;33m\u001b[0m\u001b[1;33m\u001b[0m\u001b[0m\n\u001b[0;32m    252\u001b[0m             \u001b[0mself\u001b[0m\u001b[1;33m.\u001b[0m\u001b[0m_save_header\u001b[0m\u001b[1;33m(\u001b[0m\u001b[1;33m)\u001b[0m\u001b[1;33m\u001b[0m\u001b[1;33m\u001b[0m\u001b[0m\n\u001b[1;32m--> 253\u001b[1;33m         \u001b[0mself\u001b[0m\u001b[1;33m.\u001b[0m\u001b[0m_save_body\u001b[0m\u001b[1;33m(\u001b[0m\u001b[1;33m)\u001b[0m\u001b[1;33m\u001b[0m\u001b[1;33m\u001b[0m\u001b[0m\n\u001b[0m\u001b[0;32m    254\u001b[0m \u001b[1;33m\u001b[0m\u001b[0m\n\u001b[0;32m    255\u001b[0m     \u001b[1;32mdef\u001b[0m \u001b[0m_save_header\u001b[0m\u001b[1;33m(\u001b[0m\u001b[0mself\u001b[0m\u001b[1;33m)\u001b[0m \u001b[1;33m->\u001b[0m \u001b[1;32mNone\u001b[0m\u001b[1;33m:\u001b[0m\u001b[1;33m\u001b[0m\u001b[1;33m\u001b[0m\u001b[0m\n",
      "\u001b[1;32mC:\\ProgramData\\Anaconda3\\lib\\site-packages\\pandas\\io\\formats\\csvs.py\u001b[0m in \u001b[0;36m_save_body\u001b[1;34m(self)\u001b[0m\n\u001b[0;32m    289\u001b[0m             \u001b[1;32mif\u001b[0m \u001b[0mstart_i\u001b[0m \u001b[1;33m>=\u001b[0m \u001b[0mend_i\u001b[0m\u001b[1;33m:\u001b[0m\u001b[1;33m\u001b[0m\u001b[1;33m\u001b[0m\u001b[0m\n\u001b[0;32m    290\u001b[0m                 \u001b[1;32mbreak\u001b[0m\u001b[1;33m\u001b[0m\u001b[1;33m\u001b[0m\u001b[0m\n\u001b[1;32m--> 291\u001b[1;33m             \u001b[0mself\u001b[0m\u001b[1;33m.\u001b[0m\u001b[0m_save_chunk\u001b[0m\u001b[1;33m(\u001b[0m\u001b[0mstart_i\u001b[0m\u001b[1;33m,\u001b[0m \u001b[0mend_i\u001b[0m\u001b[1;33m)\u001b[0m\u001b[1;33m\u001b[0m\u001b[1;33m\u001b[0m\u001b[0m\n\u001b[0m\u001b[0;32m    292\u001b[0m \u001b[1;33m\u001b[0m\u001b[0m\n\u001b[0;32m    293\u001b[0m     \u001b[1;32mdef\u001b[0m \u001b[0m_save_chunk\u001b[0m\u001b[1;33m(\u001b[0m\u001b[0mself\u001b[0m\u001b[1;33m,\u001b[0m \u001b[0mstart_i\u001b[0m\u001b[1;33m:\u001b[0m \u001b[0mint\u001b[0m\u001b[1;33m,\u001b[0m \u001b[0mend_i\u001b[0m\u001b[1;33m:\u001b[0m \u001b[0mint\u001b[0m\u001b[1;33m)\u001b[0m \u001b[1;33m->\u001b[0m \u001b[1;32mNone\u001b[0m\u001b[1;33m:\u001b[0m\u001b[1;33m\u001b[0m\u001b[1;33m\u001b[0m\u001b[0m\n",
      "\u001b[1;32mC:\\ProgramData\\Anaconda3\\lib\\site-packages\\pandas\\io\\formats\\csvs.py\u001b[0m in \u001b[0;36m_save_chunk\u001b[1;34m(self, start_i, end_i)\u001b[0m\n\u001b[0;32m    296\u001b[0m         \u001b[0mdf\u001b[0m \u001b[1;33m=\u001b[0m \u001b[0mself\u001b[0m\u001b[1;33m.\u001b[0m\u001b[0mobj\u001b[0m\u001b[1;33m.\u001b[0m\u001b[0miloc\u001b[0m\u001b[1;33m[\u001b[0m\u001b[0mslicer\u001b[0m\u001b[1;33m]\u001b[0m\u001b[1;33m\u001b[0m\u001b[1;33m\u001b[0m\u001b[0m\n\u001b[0;32m    297\u001b[0m \u001b[1;33m\u001b[0m\u001b[0m\n\u001b[1;32m--> 298\u001b[1;33m         \u001b[0mres\u001b[0m \u001b[1;33m=\u001b[0m \u001b[0mdf\u001b[0m\u001b[1;33m.\u001b[0m\u001b[0m_mgr\u001b[0m\u001b[1;33m.\u001b[0m\u001b[0mto_native_types\u001b[0m\u001b[1;33m(\u001b[0m\u001b[1;33m**\u001b[0m\u001b[0mself\u001b[0m\u001b[1;33m.\u001b[0m\u001b[0m_number_format\u001b[0m\u001b[1;33m)\u001b[0m\u001b[1;33m\u001b[0m\u001b[1;33m\u001b[0m\u001b[0m\n\u001b[0m\u001b[0;32m    299\u001b[0m         \u001b[0mdata\u001b[0m \u001b[1;33m=\u001b[0m \u001b[1;33m[\u001b[0m\u001b[0mres\u001b[0m\u001b[1;33m.\u001b[0m\u001b[0miget_values\u001b[0m\u001b[1;33m(\u001b[0m\u001b[0mi\u001b[0m\u001b[1;33m)\u001b[0m \u001b[1;32mfor\u001b[0m \u001b[0mi\u001b[0m \u001b[1;32min\u001b[0m \u001b[0mrange\u001b[0m\u001b[1;33m(\u001b[0m\u001b[0mlen\u001b[0m\u001b[1;33m(\u001b[0m\u001b[0mres\u001b[0m\u001b[1;33m.\u001b[0m\u001b[0mitems\u001b[0m\u001b[1;33m)\u001b[0m\u001b[1;33m)\u001b[0m\u001b[1;33m]\u001b[0m\u001b[1;33m\u001b[0m\u001b[1;33m\u001b[0m\u001b[0m\n\u001b[0;32m    300\u001b[0m \u001b[1;33m\u001b[0m\u001b[0m\n",
      "\u001b[1;32mC:\\ProgramData\\Anaconda3\\lib\\site-packages\\pandas\\core\\internals\\managers.py\u001b[0m in \u001b[0;36mto_native_types\u001b[1;34m(self, **kwargs)\u001b[0m\n\u001b[0;32m    677\u001b[0m         \u001b[1;32min\u001b[0m \u001b[0mformatting\u001b[0m \u001b[1;33m(\u001b[0m\u001b[0mrepr\u001b[0m \u001b[1;33m/\u001b[0m \u001b[0mcsv\u001b[0m\u001b[1;33m)\u001b[0m\u001b[1;33m.\u001b[0m\u001b[1;33m\u001b[0m\u001b[1;33m\u001b[0m\u001b[0m\n\u001b[0;32m    678\u001b[0m         \"\"\"\n\u001b[1;32m--> 679\u001b[1;33m         \u001b[1;32mreturn\u001b[0m \u001b[0mself\u001b[0m\u001b[1;33m.\u001b[0m\u001b[0mapply\u001b[0m\u001b[1;33m(\u001b[0m\u001b[1;34m\"to_native_types\"\u001b[0m\u001b[1;33m,\u001b[0m \u001b[1;33m**\u001b[0m\u001b[0mkwargs\u001b[0m\u001b[1;33m)\u001b[0m\u001b[1;33m\u001b[0m\u001b[1;33m\u001b[0m\u001b[0m\n\u001b[0m\u001b[0;32m    680\u001b[0m \u001b[1;33m\u001b[0m\u001b[0m\n\u001b[0;32m    681\u001b[0m     \u001b[1;32mdef\u001b[0m \u001b[0mis_consolidated\u001b[0m\u001b[1;33m(\u001b[0m\u001b[0mself\u001b[0m\u001b[1;33m)\u001b[0m \u001b[1;33m->\u001b[0m \u001b[0mbool\u001b[0m\u001b[1;33m:\u001b[0m\u001b[1;33m\u001b[0m\u001b[1;33m\u001b[0m\u001b[0m\n",
      "\u001b[1;32mC:\\ProgramData\\Anaconda3\\lib\\site-packages\\pandas\\core\\internals\\managers.py\u001b[0m in \u001b[0;36mapply\u001b[1;34m(self, f, align_keys, ignore_failures, **kwargs)\u001b[0m\n\u001b[0;32m    425\u001b[0m                     \u001b[0mapplied\u001b[0m \u001b[1;33m=\u001b[0m \u001b[0mb\u001b[0m\u001b[1;33m.\u001b[0m\u001b[0mapply\u001b[0m\u001b[1;33m(\u001b[0m\u001b[0mf\u001b[0m\u001b[1;33m,\u001b[0m \u001b[1;33m**\u001b[0m\u001b[0mkwargs\u001b[0m\u001b[1;33m)\u001b[0m\u001b[1;33m\u001b[0m\u001b[1;33m\u001b[0m\u001b[0m\n\u001b[0;32m    426\u001b[0m                 \u001b[1;32melse\u001b[0m\u001b[1;33m:\u001b[0m\u001b[1;33m\u001b[0m\u001b[1;33m\u001b[0m\u001b[0m\n\u001b[1;32m--> 427\u001b[1;33m                     \u001b[0mapplied\u001b[0m \u001b[1;33m=\u001b[0m \u001b[0mgetattr\u001b[0m\u001b[1;33m(\u001b[0m\u001b[0mb\u001b[0m\u001b[1;33m,\u001b[0m \u001b[0mf\u001b[0m\u001b[1;33m)\u001b[0m\u001b[1;33m(\u001b[0m\u001b[1;33m**\u001b[0m\u001b[0mkwargs\u001b[0m\u001b[1;33m)\u001b[0m\u001b[1;33m\u001b[0m\u001b[1;33m\u001b[0m\u001b[0m\n\u001b[0m\u001b[0;32m    428\u001b[0m             \u001b[1;32mexcept\u001b[0m \u001b[1;33m(\u001b[0m\u001b[0mTypeError\u001b[0m\u001b[1;33m,\u001b[0m \u001b[0mNotImplementedError\u001b[0m\u001b[1;33m)\u001b[0m\u001b[1;33m:\u001b[0m\u001b[1;33m\u001b[0m\u001b[1;33m\u001b[0m\u001b[0m\n\u001b[0;32m    429\u001b[0m                 \u001b[1;32mif\u001b[0m \u001b[1;32mnot\u001b[0m \u001b[0mignore_failures\u001b[0m\u001b[1;33m:\u001b[0m\u001b[1;33m\u001b[0m\u001b[1;33m\u001b[0m\u001b[0m\n",
      "\u001b[1;32mC:\\ProgramData\\Anaconda3\\lib\\site-packages\\pandas\\core\\internals\\blocks.py\u001b[0m in \u001b[0;36mto_native_types\u001b[1;34m(self, na_rep, float_format, decimal, quoting, **kwargs)\u001b[0m\n\u001b[0;32m   2108\u001b[0m                 \u001b[0mvalues\u001b[0m \u001b[1;33m=\u001b[0m \u001b[0mnp\u001b[0m\u001b[1;33m.\u001b[0m\u001b[0marray\u001b[0m\u001b[1;33m(\u001b[0m\u001b[0mvalues\u001b[0m\u001b[1;33m,\u001b[0m \u001b[0mdtype\u001b[0m\u001b[1;33m=\u001b[0m\u001b[1;34m\"object\"\u001b[0m\u001b[1;33m)\u001b[0m\u001b[1;33m\u001b[0m\u001b[1;33m\u001b[0m\u001b[0m\n\u001b[0;32m   2109\u001b[0m \u001b[1;33m\u001b[0m\u001b[0m\n\u001b[1;32m-> 2110\u001b[1;33m             \u001b[0mvalues\u001b[0m\u001b[1;33m[\u001b[0m\u001b[0mmask\u001b[0m\u001b[1;33m]\u001b[0m \u001b[1;33m=\u001b[0m \u001b[0mna_rep\u001b[0m\u001b[1;33m\u001b[0m\u001b[1;33m\u001b[0m\u001b[0m\n\u001b[0m\u001b[0;32m   2111\u001b[0m             \u001b[1;32mreturn\u001b[0m \u001b[0mself\u001b[0m\u001b[1;33m.\u001b[0m\u001b[0mmake_block\u001b[0m\u001b[1;33m(\u001b[0m\u001b[0mvalues\u001b[0m\u001b[1;33m)\u001b[0m\u001b[1;33m\u001b[0m\u001b[1;33m\u001b[0m\u001b[0m\n\u001b[0;32m   2112\u001b[0m \u001b[1;33m\u001b[0m\u001b[0m\n",
      "\u001b[1;31mKeyboardInterrupt\u001b[0m: "
     ]
    }
   ],
   "source": [
    "pd.DataFrame(X_train_new).to_csv('generated-data/X-train-new.csv')\n",
    "pd.DataFrame(X_val_new).to_csv('generated-data/X-val-new.csv')\n",
    "pd.DataFrame(X_test_new).to_csv('generated-data/X-test-new.csv')\n",
    "pd.DataFrame(X_new).to_csv('generated-data/X-new.csv')"
   ]
  },
  {
   "cell_type": "markdown",
   "id": "55ecd69c",
   "metadata": {},
   "source": [
    "### Feature Selection - Relief\n",
    "I use an implementation of relief which can be found at https://github.com/gitter-badger/ReliefF/blob/master/ReliefF/ReliefF.py\n",
    "This is *not* my implementation"
   ]
  },
  {
   "cell_type": "code",
   "execution_count": 137,
   "id": "2b71321f",
   "metadata": {},
   "outputs": [],
   "source": [
    "relief = reliefF.ReliefF(n_neighbors=70, n_features_to_keep=100)"
   ]
  },
  {
   "cell_type": "code",
   "execution_count": 138,
   "id": "fb5280f1",
   "metadata": {},
   "outputs": [],
   "source": [
    "relief.fit(X_train_new, y_train.to_numpy())"
   ]
  },
  {
   "cell_type": "code",
   "execution_count": 161,
   "id": "ee2c0caf",
   "metadata": {},
   "outputs": [],
   "source": [
    "pd.DataFrame(relief.top_features).to_csv('relief-top-features.csv')"
   ]
  },
  {
   "cell_type": "markdown",
   "id": "4aad8d41",
   "metadata": {},
   "source": [
    "### Feature Selection - Using a Random Forest"
   ]
  },
  {
   "cell_type": "code",
   "execution_count": null,
   "id": "fd845e3c",
   "metadata": {},
   "outputs": [],
   "source": [
    "def convert_y_to_class(y):\n",
    "    class_case = [0 if i < 2.0 else 1 for i in y]\n",
    "    return class_case"
   ]
  },
  {
   "cell_type": "code",
   "execution_count": null,
   "id": "faa7ee1c",
   "metadata": {},
   "outputs": [],
   "source": [
    "y_train_class = convert_y_to_class(y_train)\n",
    "y_val_class = convert_y_to_class(y_val)\n",
    "y_test_class = convert_y_to_class(y_test)"
   ]
  },
  {
   "cell_type": "code",
   "execution_count": 10,
   "id": "7660b6ee",
   "metadata": {},
   "outputs": [
    {
     "ename": "NameError",
     "evalue": "name 'X_train_new' is not defined",
     "output_type": "error",
     "traceback": [
      "\u001b[1;31m---------------------------------------------------------------------------\u001b[0m",
      "\u001b[1;31mNameError\u001b[0m                                 Traceback (most recent call last)",
      "\u001b[1;32m<ipython-input-10-608fef912876>\u001b[0m in \u001b[0;36m<module>\u001b[1;34m\u001b[0m\n\u001b[0;32m      1\u001b[0m \u001b[0mrf\u001b[0m \u001b[1;33m=\u001b[0m \u001b[0mRandomForestClassifier\u001b[0m\u001b[1;33m(\u001b[0m\u001b[0mn_estimators\u001b[0m\u001b[1;33m=\u001b[0m\u001b[1;36m100\u001b[0m\u001b[1;33m)\u001b[0m\u001b[1;33m\u001b[0m\u001b[1;33m\u001b[0m\u001b[0m\n\u001b[1;32m----> 2\u001b[1;33m \u001b[0mrf\u001b[0m\u001b[1;33m.\u001b[0m\u001b[0mfit\u001b[0m\u001b[1;33m(\u001b[0m\u001b[0mX_train_new\u001b[0m\u001b[1;33m,\u001b[0m \u001b[0my_train_class\u001b[0m\u001b[1;33m)\u001b[0m\u001b[1;33m\u001b[0m\u001b[1;33m\u001b[0m\u001b[0m\n\u001b[0m",
      "\u001b[1;31mNameError\u001b[0m: name 'X_train_new' is not defined"
     ]
    }
   ],
   "source": [
    "rf = RandomForestClassifier(n_estimators=100)\n",
    "rf.fit(X_train_new, y_train_class)"
   ]
  },
  {
   "cell_type": "code",
   "execution_count": 193,
   "id": "1f05182b",
   "metadata": {},
   "outputs": [
    {
     "data": {
      "text/plain": [
       "array([[19192,   144],\n",
       "       [  823,   935]], dtype=int64)"
      ]
     },
     "execution_count": 193,
     "metadata": {},
     "output_type": "execute_result"
    }
   ],
   "source": [
    "y_pred = rf.predict(X_val_new)\n",
    "confusion_matrix(y_val_class, y_pred)"
   ]
  },
  {
   "cell_type": "code",
   "execution_count": 206,
   "id": "cb9f07ae",
   "metadata": {},
   "outputs": [],
   "source": [
    "importances = rf.feature_importances_\n",
    "std = np.std([tree.feature_importances_ for tree in rf.estimators_], axis=0)"
   ]
  },
  {
   "cell_type": "code",
   "execution_count": 222,
   "id": "8a37c39f",
   "metadata": {},
   "outputs": [],
   "source": [
    "df_importances = pd.DataFrame(std, columns=['std'])\n",
    "df_importances['feature'] = df_importances.index\n",
    "best_features = np.array(df_importances.sort_values(by='std', ascending=False)['feature'].head(50))"
   ]
  },
  {
   "cell_type": "code",
   "execution_count": 231,
   "id": "e85648f7",
   "metadata": {},
   "outputs": [
    {
     "data": {
      "text/plain": [
       "array([763, 765, 764, 268, 269, 336, 248, 646, 647,   1, 200, 375, 205,\n",
       "       373, 637, 330, 331, 416, 334, 249,  22, 218, 374, 329, 580, 832,\n",
       "       831, 410, 399, 219, 259, 209, 615, 827, 648, 289, 275, 278, 505,\n",
       "       581,  29, 613, 788, 198, 333, 437, 784, 778, 660, 332], dtype=int64)"
      ]
     },
     "execution_count": 231,
     "metadata": {},
     "output_type": "execute_result"
    }
   ],
   "source": [
    "best_features"
   ]
  },
  {
   "cell_type": "code",
   "execution_count": null,
   "id": "297acd31",
   "metadata": {},
   "outputs": [],
   "source": [
    "X_train_new2 = X_train_new[:, best_features]\n",
    "X_test_new2 = X_test_new[:, best_features]\n",
    "X_val_new2 = X_val_new[:, best_features]"
   ]
  },
  {
   "cell_type": "code",
   "execution_count": null,
   "id": "c915d6e2",
   "metadata": {},
   "outputs": [],
   "source": [
    "rf2 = RandomForestClassifier(n_estimators=100)\n",
    "rf2.fit(X_train_new2, y_train_class)"
   ]
  },
  {
   "cell_type": "code",
   "execution_count": 249,
   "id": "f8fdf8a4",
   "metadata": {},
   "outputs": [
    {
     "name": "stdout",
     "output_type": "stream",
     "text": [
      "              precision    recall  f1-score   support\n",
      "\n",
      "           0       0.98      0.99      0.98     19336\n",
      "           1       0.84      0.80      0.82      1758\n",
      "\n",
      "    accuracy                           0.97     21094\n",
      "   macro avg       0.91      0.89      0.90     21094\n",
      "weighted avg       0.97      0.97      0.97     21094\n",
      "\n"
     ]
    },
    {
     "data": {
      "text/plain": [
       "array([[19074,   262],\n",
       "       [  352,  1406]], dtype=int64)"
      ]
     },
     "execution_count": 249,
     "metadata": {},
     "output_type": "execute_result"
    }
   ],
   "source": [
    "y_pred2 = rf2.predict(X_val_new2)\n",
    "print(classification_report(y_val_class, y_pred2))\n",
    "confusion_matrix(y_val_class, y_pred2)"
   ]
  },
  {
   "cell_type": "code",
   "execution_count": 246,
   "id": "171a0bfb",
   "metadata": {},
   "outputs": [],
   "source": [
    "X_new2 = np.concatenate([X_train_new2, X_val_new2, X_test_new2])\n",
    "pd.DataFrame(X_train_new2).to_csv('generated-data/X-train-new2.csv')\n",
    "pd.DataFrame(X_val_new2).to_csv('generated-data/X-val-new2.csv')\n",
    "pd.DataFrame(X_test_new2).to_csv('generated-data/X-test-new2.csv')\n",
    "pd.DataFrame(X_new2).to_csv('generated-data/X-new2.csv')\n",
    "pd.DataFrame(np.concatenate([y_train, y_val, y_test])).to_csv('generated-data/y-in-order-for-new2.csv')"
   ]
  },
  {
   "cell_type": "code",
   "execution_count": 13,
   "id": "ceaa76ff",
   "metadata": {},
   "outputs": [],
   "source": [
    "pd.DataFrame(y_train).to_csv('generated-data/y-train.csv')\n",
    "pd.DataFrame(y_val).to_csv('generated-data/y-val.csv')\n",
    "pd.DataFrame(y_test).to_csv('generated-data/y-test.csv')"
   ]
  },
  {
   "cell_type": "code",
   "execution_count": null,
   "id": "d3ad62ac",
   "metadata": {},
   "outputs": [],
   "source": []
  }
 ],
 "metadata": {
  "kernelspec": {
   "display_name": "Python 3",
   "language": "python",
   "name": "python3"
  },
  "language_info": {
   "codemirror_mode": {
    "name": "ipython",
    "version": 3
   },
   "file_extension": ".py",
   "mimetype": "text/x-python",
   "name": "python",
   "nbconvert_exporter": "python",
   "pygments_lexer": "ipython3",
   "version": "3.8.8"
  }
 },
 "nbformat": 4,
 "nbformat_minor": 5
}
